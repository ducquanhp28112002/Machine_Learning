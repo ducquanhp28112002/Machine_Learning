{
  "nbformat": 4,
  "nbformat_minor": 0,
  "metadata": {
    "colab": {
      "name": "OnlineRetail.ipynb",
      "provenance": [],
      "authorship_tag": "ABX9TyOcaAIs+gQ1KLpw+bTCnVsi",
      "include_colab_link": true
    },
    "kernelspec": {
      "name": "python3",
      "display_name": "Python 3"
    },
    "language_info": {
      "name": "python"
    }
  },
  "cells": [
    {
      "cell_type": "markdown",
      "metadata": {
        "id": "view-in-github",
        "colab_type": "text"
      },
      "source": [
        "<a href=\"https://colab.research.google.com/github/ducquanhp28112002/Machine_Learning/blob/main/OnlineRetail.ipynb\" target=\"_parent\"><img src=\"https://colab.research.google.com/assets/colab-badge.svg\" alt=\"Open In Colab\"/></a>"
      ]
    },
    {
      "cell_type": "markdown",
      "source": [
        "### **Khai báo thư viện**"
      ],
      "metadata": {
        "id": "8GWwfZQ1GRXf"
      }
    },
    {
      "cell_type": "code",
      "source": [
        "# import required libraries for dataframe and visualization\n",
        "\n",
        "import numpy as np\n",
        "import pandas as pd\n",
        "import matplotlib.pyplot as plt\n",
        "import seaborn as sns\n",
        "import datetime as dt"
      ],
      "metadata": {
        "id": "0F4FH03JGvs3"
      },
      "execution_count": 348,
      "outputs": []
    },
    {
      "cell_type": "code",
      "source": [
        "# import required libraries for clustering\n",
        "import sklearn\n",
        "from sklearn.preprocessing import StandardScaler\n",
        "from sklearn.cluster import KMeans\n",
        "from sklearn.metrics import silhouette_score\n",
        "from scipy.cluster.hierarchy import linkage\n",
        "from scipy.cluster.hierarchy import dendrogram\n",
        "from scipy.cluster.hierarchy import cut_tree"
      ],
      "metadata": {
        "id": "I9o2p_q7G4vP"
      },
      "execution_count": 349,
      "outputs": []
    },
    {
      "cell_type": "markdown",
      "source": [
        "### **Đọc dữ liệu**"
      ],
      "metadata": {
        "id": "TTWVJubZHADH"
      }
    },
    {
      "cell_type": "code",
      "source": [
        "df = pd.read_csv(\"OnlineRetail.csv\", delimiter = \",\", encoding = \"ISO-8859-1\")\n",
        "df.head()"
      ],
      "metadata": {
        "colab": {
          "base_uri": "https://localhost:8080/",
          "height": 206
        },
        "id": "XU4MZkvNHJXc",
        "outputId": "1d3bff27-c10b-452c-9833-75d76fc170b0"
      },
      "execution_count": 350,
      "outputs": [
        {
          "output_type": "execute_result",
          "data": {
            "text/plain": [
              "  InvoiceNo StockCode                          Description  Quantity  \\\n",
              "0    536365    85123A   WHITE HANGING HEART T-LIGHT HOLDER         6   \n",
              "1    536365     71053                  WHITE METAL LANTERN         6   \n",
              "2    536365    84406B       CREAM CUPID HEARTS COAT HANGER         8   \n",
              "3    536365    84029G  KNITTED UNION FLAG HOT WATER BOTTLE         6   \n",
              "4    536365    84029E       RED WOOLLY HOTTIE WHITE HEART.         6   \n",
              "\n",
              "        InvoiceDate  UnitPrice  CustomerID         Country  \n",
              "0  01-12-2010 08:26       2.55     17850.0  United Kingdom  \n",
              "1  01-12-2010 08:26       3.39     17850.0  United Kingdom  \n",
              "2  01-12-2010 08:26       2.75     17850.0  United Kingdom  \n",
              "3  01-12-2010 08:26       3.39     17850.0  United Kingdom  \n",
              "4  01-12-2010 08:26       3.39     17850.0  United Kingdom  "
            ],
            "text/html": [
              "\n",
              "  <div id=\"df-ed5688c6-ff61-4049-a983-500b599f9ea6\">\n",
              "    <div class=\"colab-df-container\">\n",
              "      <div>\n",
              "<style scoped>\n",
              "    .dataframe tbody tr th:only-of-type {\n",
              "        vertical-align: middle;\n",
              "    }\n",
              "\n",
              "    .dataframe tbody tr th {\n",
              "        vertical-align: top;\n",
              "    }\n",
              "\n",
              "    .dataframe thead th {\n",
              "        text-align: right;\n",
              "    }\n",
              "</style>\n",
              "<table border=\"1\" class=\"dataframe\">\n",
              "  <thead>\n",
              "    <tr style=\"text-align: right;\">\n",
              "      <th></th>\n",
              "      <th>InvoiceNo</th>\n",
              "      <th>StockCode</th>\n",
              "      <th>Description</th>\n",
              "      <th>Quantity</th>\n",
              "      <th>InvoiceDate</th>\n",
              "      <th>UnitPrice</th>\n",
              "      <th>CustomerID</th>\n",
              "      <th>Country</th>\n",
              "    </tr>\n",
              "  </thead>\n",
              "  <tbody>\n",
              "    <tr>\n",
              "      <th>0</th>\n",
              "      <td>536365</td>\n",
              "      <td>85123A</td>\n",
              "      <td>WHITE HANGING HEART T-LIGHT HOLDER</td>\n",
              "      <td>6</td>\n",
              "      <td>01-12-2010 08:26</td>\n",
              "      <td>2.55</td>\n",
              "      <td>17850.0</td>\n",
              "      <td>United Kingdom</td>\n",
              "    </tr>\n",
              "    <tr>\n",
              "      <th>1</th>\n",
              "      <td>536365</td>\n",
              "      <td>71053</td>\n",
              "      <td>WHITE METAL LANTERN</td>\n",
              "      <td>6</td>\n",
              "      <td>01-12-2010 08:26</td>\n",
              "      <td>3.39</td>\n",
              "      <td>17850.0</td>\n",
              "      <td>United Kingdom</td>\n",
              "    </tr>\n",
              "    <tr>\n",
              "      <th>2</th>\n",
              "      <td>536365</td>\n",
              "      <td>84406B</td>\n",
              "      <td>CREAM CUPID HEARTS COAT HANGER</td>\n",
              "      <td>8</td>\n",
              "      <td>01-12-2010 08:26</td>\n",
              "      <td>2.75</td>\n",
              "      <td>17850.0</td>\n",
              "      <td>United Kingdom</td>\n",
              "    </tr>\n",
              "    <tr>\n",
              "      <th>3</th>\n",
              "      <td>536365</td>\n",
              "      <td>84029G</td>\n",
              "      <td>KNITTED UNION FLAG HOT WATER BOTTLE</td>\n",
              "      <td>6</td>\n",
              "      <td>01-12-2010 08:26</td>\n",
              "      <td>3.39</td>\n",
              "      <td>17850.0</td>\n",
              "      <td>United Kingdom</td>\n",
              "    </tr>\n",
              "    <tr>\n",
              "      <th>4</th>\n",
              "      <td>536365</td>\n",
              "      <td>84029E</td>\n",
              "      <td>RED WOOLLY HOTTIE WHITE HEART.</td>\n",
              "      <td>6</td>\n",
              "      <td>01-12-2010 08:26</td>\n",
              "      <td>3.39</td>\n",
              "      <td>17850.0</td>\n",
              "      <td>United Kingdom</td>\n",
              "    </tr>\n",
              "  </tbody>\n",
              "</table>\n",
              "</div>\n",
              "      <button class=\"colab-df-convert\" onclick=\"convertToInteractive('df-ed5688c6-ff61-4049-a983-500b599f9ea6')\"\n",
              "              title=\"Convert this dataframe to an interactive table.\"\n",
              "              style=\"display:none;\">\n",
              "        \n",
              "  <svg xmlns=\"http://www.w3.org/2000/svg\" height=\"24px\"viewBox=\"0 0 24 24\"\n",
              "       width=\"24px\">\n",
              "    <path d=\"M0 0h24v24H0V0z\" fill=\"none\"/>\n",
              "    <path d=\"M18.56 5.44l.94 2.06.94-2.06 2.06-.94-2.06-.94-.94-2.06-.94 2.06-2.06.94zm-11 1L8.5 8.5l.94-2.06 2.06-.94-2.06-.94L8.5 2.5l-.94 2.06-2.06.94zm10 10l.94 2.06.94-2.06 2.06-.94-2.06-.94-.94-2.06-.94 2.06-2.06.94z\"/><path d=\"M17.41 7.96l-1.37-1.37c-.4-.4-.92-.59-1.43-.59-.52 0-1.04.2-1.43.59L10.3 9.45l-7.72 7.72c-.78.78-.78 2.05 0 2.83L4 21.41c.39.39.9.59 1.41.59.51 0 1.02-.2 1.41-.59l7.78-7.78 2.81-2.81c.8-.78.8-2.07 0-2.86zM5.41 20L4 18.59l7.72-7.72 1.47 1.35L5.41 20z\"/>\n",
              "  </svg>\n",
              "      </button>\n",
              "      \n",
              "  <style>\n",
              "    .colab-df-container {\n",
              "      display:flex;\n",
              "      flex-wrap:wrap;\n",
              "      gap: 12px;\n",
              "    }\n",
              "\n",
              "    .colab-df-convert {\n",
              "      background-color: #E8F0FE;\n",
              "      border: none;\n",
              "      border-radius: 50%;\n",
              "      cursor: pointer;\n",
              "      display: none;\n",
              "      fill: #1967D2;\n",
              "      height: 32px;\n",
              "      padding: 0 0 0 0;\n",
              "      width: 32px;\n",
              "    }\n",
              "\n",
              "    .colab-df-convert:hover {\n",
              "      background-color: #E2EBFA;\n",
              "      box-shadow: 0px 1px 2px rgba(60, 64, 67, 0.3), 0px 1px 3px 1px rgba(60, 64, 67, 0.15);\n",
              "      fill: #174EA6;\n",
              "    }\n",
              "\n",
              "    [theme=dark] .colab-df-convert {\n",
              "      background-color: #3B4455;\n",
              "      fill: #D2E3FC;\n",
              "    }\n",
              "\n",
              "    [theme=dark] .colab-df-convert:hover {\n",
              "      background-color: #434B5C;\n",
              "      box-shadow: 0px 1px 3px 1px rgba(0, 0, 0, 0.15);\n",
              "      filter: drop-shadow(0px 1px 2px rgba(0, 0, 0, 0.3));\n",
              "      fill: #FFFFFF;\n",
              "    }\n",
              "  </style>\n",
              "\n",
              "      <script>\n",
              "        const buttonEl =\n",
              "          document.querySelector('#df-ed5688c6-ff61-4049-a983-500b599f9ea6 button.colab-df-convert');\n",
              "        buttonEl.style.display =\n",
              "          google.colab.kernel.accessAllowed ? 'block' : 'none';\n",
              "\n",
              "        async function convertToInteractive(key) {\n",
              "          const element = document.querySelector('#df-ed5688c6-ff61-4049-a983-500b599f9ea6');\n",
              "          const dataTable =\n",
              "            await google.colab.kernel.invokeFunction('convertToInteractive',\n",
              "                                                     [key], {});\n",
              "          if (!dataTable) return;\n",
              "\n",
              "          const docLinkHtml = 'Like what you see? Visit the ' +\n",
              "            '<a target=\"_blank\" href=https://colab.research.google.com/notebooks/data_table.ipynb>data table notebook</a>'\n",
              "            + ' to learn more about interactive tables.';\n",
              "          element.innerHTML = '';\n",
              "          dataTable['output_type'] = 'display_data';\n",
              "          await google.colab.output.renderOutput(dataTable, element);\n",
              "          const docLink = document.createElement('div');\n",
              "          docLink.innerHTML = docLinkHtml;\n",
              "          element.appendChild(docLink);\n",
              "        }\n",
              "      </script>\n",
              "    </div>\n",
              "  </div>\n",
              "  "
            ]
          },
          "metadata": {},
          "execution_count": 350
        }
      ]
    },
    {
      "cell_type": "markdown",
      "source": [
        "### **Tìm hiểu về dữ liệu**"
      ],
      "metadata": {
        "id": "n0i1m4W5L2uA"
      }
    },
    {
      "cell_type": "code",
      "source": [
        "# Kích thước\n",
        "df.shape"
      ],
      "metadata": {
        "colab": {
          "base_uri": "https://localhost:8080/"
        },
        "id": "zlJQMvAaL7yX",
        "outputId": "247c5566-09af-4996-dd7f-88bf3b1e2786"
      },
      "execution_count": 351,
      "outputs": [
        {
          "output_type": "execute_result",
          "data": {
            "text/plain": [
              "(541909, 8)"
            ]
          },
          "metadata": {},
          "execution_count": 351
        }
      ]
    },
    {
      "cell_type": "code",
      "source": [
        "# Thông tin\n",
        "df.info()"
      ],
      "metadata": {
        "colab": {
          "base_uri": "https://localhost:8080/"
        },
        "id": "_lkAdLTvME8Z",
        "outputId": "02598935-ed98-4087-c581-775a7bd7f545"
      },
      "execution_count": 352,
      "outputs": [
        {
          "output_type": "stream",
          "name": "stdout",
          "text": [
            "<class 'pandas.core.frame.DataFrame'>\n",
            "RangeIndex: 541909 entries, 0 to 541908\n",
            "Data columns (total 8 columns):\n",
            " #   Column       Non-Null Count   Dtype  \n",
            "---  ------       --------------   -----  \n",
            " 0   InvoiceNo    541909 non-null  object \n",
            " 1   StockCode    541909 non-null  object \n",
            " 2   Description  540455 non-null  object \n",
            " 3   Quantity     541909 non-null  int64  \n",
            " 4   InvoiceDate  541909 non-null  object \n",
            " 5   UnitPrice    541909 non-null  float64\n",
            " 6   CustomerID   406829 non-null  float64\n",
            " 7   Country      541909 non-null  object \n",
            "dtypes: float64(2), int64(1), object(5)\n",
            "memory usage: 33.1+ MB\n"
          ]
        }
      ]
    },
    {
      "cell_type": "code",
      "source": [
        "df.describe()"
      ],
      "metadata": {
        "colab": {
          "base_uri": "https://localhost:8080/",
          "height": 300
        },
        "id": "zTijsdTuMJiu",
        "outputId": "23396235-8986-4e1e-aabe-10a4aaddd3dc"
      },
      "execution_count": 353,
      "outputs": [
        {
          "output_type": "execute_result",
          "data": {
            "text/plain": [
              "            Quantity      UnitPrice     CustomerID\n",
              "count  541909.000000  541909.000000  406829.000000\n",
              "mean        9.552250       4.611114   15287.690570\n",
              "std       218.081158      96.759853    1713.600303\n",
              "min    -80995.000000  -11062.060000   12346.000000\n",
              "25%         1.000000       1.250000   13953.000000\n",
              "50%         3.000000       2.080000   15152.000000\n",
              "75%        10.000000       4.130000   16791.000000\n",
              "max     80995.000000   38970.000000   18287.000000"
            ],
            "text/html": [
              "\n",
              "  <div id=\"df-74d9a4ee-d5df-4935-a3ae-1bc46cce111a\">\n",
              "    <div class=\"colab-df-container\">\n",
              "      <div>\n",
              "<style scoped>\n",
              "    .dataframe tbody tr th:only-of-type {\n",
              "        vertical-align: middle;\n",
              "    }\n",
              "\n",
              "    .dataframe tbody tr th {\n",
              "        vertical-align: top;\n",
              "    }\n",
              "\n",
              "    .dataframe thead th {\n",
              "        text-align: right;\n",
              "    }\n",
              "</style>\n",
              "<table border=\"1\" class=\"dataframe\">\n",
              "  <thead>\n",
              "    <tr style=\"text-align: right;\">\n",
              "      <th></th>\n",
              "      <th>Quantity</th>\n",
              "      <th>UnitPrice</th>\n",
              "      <th>CustomerID</th>\n",
              "    </tr>\n",
              "  </thead>\n",
              "  <tbody>\n",
              "    <tr>\n",
              "      <th>count</th>\n",
              "      <td>541909.000000</td>\n",
              "      <td>541909.000000</td>\n",
              "      <td>406829.000000</td>\n",
              "    </tr>\n",
              "    <tr>\n",
              "      <th>mean</th>\n",
              "      <td>9.552250</td>\n",
              "      <td>4.611114</td>\n",
              "      <td>15287.690570</td>\n",
              "    </tr>\n",
              "    <tr>\n",
              "      <th>std</th>\n",
              "      <td>218.081158</td>\n",
              "      <td>96.759853</td>\n",
              "      <td>1713.600303</td>\n",
              "    </tr>\n",
              "    <tr>\n",
              "      <th>min</th>\n",
              "      <td>-80995.000000</td>\n",
              "      <td>-11062.060000</td>\n",
              "      <td>12346.000000</td>\n",
              "    </tr>\n",
              "    <tr>\n",
              "      <th>25%</th>\n",
              "      <td>1.000000</td>\n",
              "      <td>1.250000</td>\n",
              "      <td>13953.000000</td>\n",
              "    </tr>\n",
              "    <tr>\n",
              "      <th>50%</th>\n",
              "      <td>3.000000</td>\n",
              "      <td>2.080000</td>\n",
              "      <td>15152.000000</td>\n",
              "    </tr>\n",
              "    <tr>\n",
              "      <th>75%</th>\n",
              "      <td>10.000000</td>\n",
              "      <td>4.130000</td>\n",
              "      <td>16791.000000</td>\n",
              "    </tr>\n",
              "    <tr>\n",
              "      <th>max</th>\n",
              "      <td>80995.000000</td>\n",
              "      <td>38970.000000</td>\n",
              "      <td>18287.000000</td>\n",
              "    </tr>\n",
              "  </tbody>\n",
              "</table>\n",
              "</div>\n",
              "      <button class=\"colab-df-convert\" onclick=\"convertToInteractive('df-74d9a4ee-d5df-4935-a3ae-1bc46cce111a')\"\n",
              "              title=\"Convert this dataframe to an interactive table.\"\n",
              "              style=\"display:none;\">\n",
              "        \n",
              "  <svg xmlns=\"http://www.w3.org/2000/svg\" height=\"24px\"viewBox=\"0 0 24 24\"\n",
              "       width=\"24px\">\n",
              "    <path d=\"M0 0h24v24H0V0z\" fill=\"none\"/>\n",
              "    <path d=\"M18.56 5.44l.94 2.06.94-2.06 2.06-.94-2.06-.94-.94-2.06-.94 2.06-2.06.94zm-11 1L8.5 8.5l.94-2.06 2.06-.94-2.06-.94L8.5 2.5l-.94 2.06-2.06.94zm10 10l.94 2.06.94-2.06 2.06-.94-2.06-.94-.94-2.06-.94 2.06-2.06.94z\"/><path d=\"M17.41 7.96l-1.37-1.37c-.4-.4-.92-.59-1.43-.59-.52 0-1.04.2-1.43.59L10.3 9.45l-7.72 7.72c-.78.78-.78 2.05 0 2.83L4 21.41c.39.39.9.59 1.41.59.51 0 1.02-.2 1.41-.59l7.78-7.78 2.81-2.81c.8-.78.8-2.07 0-2.86zM5.41 20L4 18.59l7.72-7.72 1.47 1.35L5.41 20z\"/>\n",
              "  </svg>\n",
              "      </button>\n",
              "      \n",
              "  <style>\n",
              "    .colab-df-container {\n",
              "      display:flex;\n",
              "      flex-wrap:wrap;\n",
              "      gap: 12px;\n",
              "    }\n",
              "\n",
              "    .colab-df-convert {\n",
              "      background-color: #E8F0FE;\n",
              "      border: none;\n",
              "      border-radius: 50%;\n",
              "      cursor: pointer;\n",
              "      display: none;\n",
              "      fill: #1967D2;\n",
              "      height: 32px;\n",
              "      padding: 0 0 0 0;\n",
              "      width: 32px;\n",
              "    }\n",
              "\n",
              "    .colab-df-convert:hover {\n",
              "      background-color: #E2EBFA;\n",
              "      box-shadow: 0px 1px 2px rgba(60, 64, 67, 0.3), 0px 1px 3px 1px rgba(60, 64, 67, 0.15);\n",
              "      fill: #174EA6;\n",
              "    }\n",
              "\n",
              "    [theme=dark] .colab-df-convert {\n",
              "      background-color: #3B4455;\n",
              "      fill: #D2E3FC;\n",
              "    }\n",
              "\n",
              "    [theme=dark] .colab-df-convert:hover {\n",
              "      background-color: #434B5C;\n",
              "      box-shadow: 0px 1px 3px 1px rgba(0, 0, 0, 0.15);\n",
              "      filter: drop-shadow(0px 1px 2px rgba(0, 0, 0, 0.3));\n",
              "      fill: #FFFFFF;\n",
              "    }\n",
              "  </style>\n",
              "\n",
              "      <script>\n",
              "        const buttonEl =\n",
              "          document.querySelector('#df-74d9a4ee-d5df-4935-a3ae-1bc46cce111a button.colab-df-convert');\n",
              "        buttonEl.style.display =\n",
              "          google.colab.kernel.accessAllowed ? 'block' : 'none';\n",
              "\n",
              "        async function convertToInteractive(key) {\n",
              "          const element = document.querySelector('#df-74d9a4ee-d5df-4935-a3ae-1bc46cce111a');\n",
              "          const dataTable =\n",
              "            await google.colab.kernel.invokeFunction('convertToInteractive',\n",
              "                                                     [key], {});\n",
              "          if (!dataTable) return;\n",
              "\n",
              "          const docLinkHtml = 'Like what you see? Visit the ' +\n",
              "            '<a target=\"_blank\" href=https://colab.research.google.com/notebooks/data_table.ipynb>data table notebook</a>'\n",
              "            + ' to learn more about interactive tables.';\n",
              "          element.innerHTML = '';\n",
              "          dataTable['output_type'] = 'display_data';\n",
              "          await google.colab.output.renderOutput(dataTable, element);\n",
              "          const docLink = document.createElement('div');\n",
              "          docLink.innerHTML = docLinkHtml;\n",
              "          element.appendChild(docLink);\n",
              "        }\n",
              "      </script>\n",
              "    </div>\n",
              "  </div>\n",
              "  "
            ]
          },
          "metadata": {},
          "execution_count": 353
        }
      ]
    },
    {
      "cell_type": "markdown",
      "source": [
        "### **Làm sạch dữ liệu**"
      ],
      "metadata": {
        "id": "vqh5DQUMMQiz"
      }
    },
    {
      "cell_type": "code",
      "source": [
        "df_null = round(100 * (df.isnull().sum()) / len(df), 2)\n",
        "df_null"
      ],
      "metadata": {
        "colab": {
          "base_uri": "https://localhost:8080/"
        },
        "id": "42NZbX5zMaAu",
        "outputId": "faeaebd4-af7b-4a83-8dfe-1248cff4620c"
      },
      "execution_count": 354,
      "outputs": [
        {
          "output_type": "execute_result",
          "data": {
            "text/plain": [
              "InvoiceNo       0.00\n",
              "StockCode       0.00\n",
              "Description     0.27\n",
              "Quantity        0.00\n",
              "InvoiceDate     0.00\n",
              "UnitPrice       0.00\n",
              "CustomerID     24.93\n",
              "Country         0.00\n",
              "dtype: float64"
            ]
          },
          "metadata": {},
          "execution_count": 354
        }
      ]
    },
    {
      "cell_type": "code",
      "source": [
        "# Xóa dòng có dữ liệu bị thiếu\n",
        "df = df.dropna()\n",
        "df.head()"
      ],
      "metadata": {
        "colab": {
          "base_uri": "https://localhost:8080/",
          "height": 206
        },
        "id": "k6l0PhLgMgjw",
        "outputId": "2469255a-3c7f-4645-d838-25cbdc154789"
      },
      "execution_count": 355,
      "outputs": [
        {
          "output_type": "execute_result",
          "data": {
            "text/plain": [
              "  InvoiceNo StockCode                          Description  Quantity  \\\n",
              "0    536365    85123A   WHITE HANGING HEART T-LIGHT HOLDER         6   \n",
              "1    536365     71053                  WHITE METAL LANTERN         6   \n",
              "2    536365    84406B       CREAM CUPID HEARTS COAT HANGER         8   \n",
              "3    536365    84029G  KNITTED UNION FLAG HOT WATER BOTTLE         6   \n",
              "4    536365    84029E       RED WOOLLY HOTTIE WHITE HEART.         6   \n",
              "\n",
              "        InvoiceDate  UnitPrice  CustomerID         Country  \n",
              "0  01-12-2010 08:26       2.55     17850.0  United Kingdom  \n",
              "1  01-12-2010 08:26       3.39     17850.0  United Kingdom  \n",
              "2  01-12-2010 08:26       2.75     17850.0  United Kingdom  \n",
              "3  01-12-2010 08:26       3.39     17850.0  United Kingdom  \n",
              "4  01-12-2010 08:26       3.39     17850.0  United Kingdom  "
            ],
            "text/html": [
              "\n",
              "  <div id=\"df-ac63b862-95cd-452a-b28c-696063e74ab0\">\n",
              "    <div class=\"colab-df-container\">\n",
              "      <div>\n",
              "<style scoped>\n",
              "    .dataframe tbody tr th:only-of-type {\n",
              "        vertical-align: middle;\n",
              "    }\n",
              "\n",
              "    .dataframe tbody tr th {\n",
              "        vertical-align: top;\n",
              "    }\n",
              "\n",
              "    .dataframe thead th {\n",
              "        text-align: right;\n",
              "    }\n",
              "</style>\n",
              "<table border=\"1\" class=\"dataframe\">\n",
              "  <thead>\n",
              "    <tr style=\"text-align: right;\">\n",
              "      <th></th>\n",
              "      <th>InvoiceNo</th>\n",
              "      <th>StockCode</th>\n",
              "      <th>Description</th>\n",
              "      <th>Quantity</th>\n",
              "      <th>InvoiceDate</th>\n",
              "      <th>UnitPrice</th>\n",
              "      <th>CustomerID</th>\n",
              "      <th>Country</th>\n",
              "    </tr>\n",
              "  </thead>\n",
              "  <tbody>\n",
              "    <tr>\n",
              "      <th>0</th>\n",
              "      <td>536365</td>\n",
              "      <td>85123A</td>\n",
              "      <td>WHITE HANGING HEART T-LIGHT HOLDER</td>\n",
              "      <td>6</td>\n",
              "      <td>01-12-2010 08:26</td>\n",
              "      <td>2.55</td>\n",
              "      <td>17850.0</td>\n",
              "      <td>United Kingdom</td>\n",
              "    </tr>\n",
              "    <tr>\n",
              "      <th>1</th>\n",
              "      <td>536365</td>\n",
              "      <td>71053</td>\n",
              "      <td>WHITE METAL LANTERN</td>\n",
              "      <td>6</td>\n",
              "      <td>01-12-2010 08:26</td>\n",
              "      <td>3.39</td>\n",
              "      <td>17850.0</td>\n",
              "      <td>United Kingdom</td>\n",
              "    </tr>\n",
              "    <tr>\n",
              "      <th>2</th>\n",
              "      <td>536365</td>\n",
              "      <td>84406B</td>\n",
              "      <td>CREAM CUPID HEARTS COAT HANGER</td>\n",
              "      <td>8</td>\n",
              "      <td>01-12-2010 08:26</td>\n",
              "      <td>2.75</td>\n",
              "      <td>17850.0</td>\n",
              "      <td>United Kingdom</td>\n",
              "    </tr>\n",
              "    <tr>\n",
              "      <th>3</th>\n",
              "      <td>536365</td>\n",
              "      <td>84029G</td>\n",
              "      <td>KNITTED UNION FLAG HOT WATER BOTTLE</td>\n",
              "      <td>6</td>\n",
              "      <td>01-12-2010 08:26</td>\n",
              "      <td>3.39</td>\n",
              "      <td>17850.0</td>\n",
              "      <td>United Kingdom</td>\n",
              "    </tr>\n",
              "    <tr>\n",
              "      <th>4</th>\n",
              "      <td>536365</td>\n",
              "      <td>84029E</td>\n",
              "      <td>RED WOOLLY HOTTIE WHITE HEART.</td>\n",
              "      <td>6</td>\n",
              "      <td>01-12-2010 08:26</td>\n",
              "      <td>3.39</td>\n",
              "      <td>17850.0</td>\n",
              "      <td>United Kingdom</td>\n",
              "    </tr>\n",
              "  </tbody>\n",
              "</table>\n",
              "</div>\n",
              "      <button class=\"colab-df-convert\" onclick=\"convertToInteractive('df-ac63b862-95cd-452a-b28c-696063e74ab0')\"\n",
              "              title=\"Convert this dataframe to an interactive table.\"\n",
              "              style=\"display:none;\">\n",
              "        \n",
              "  <svg xmlns=\"http://www.w3.org/2000/svg\" height=\"24px\"viewBox=\"0 0 24 24\"\n",
              "       width=\"24px\">\n",
              "    <path d=\"M0 0h24v24H0V0z\" fill=\"none\"/>\n",
              "    <path d=\"M18.56 5.44l.94 2.06.94-2.06 2.06-.94-2.06-.94-.94-2.06-.94 2.06-2.06.94zm-11 1L8.5 8.5l.94-2.06 2.06-.94-2.06-.94L8.5 2.5l-.94 2.06-2.06.94zm10 10l.94 2.06.94-2.06 2.06-.94-2.06-.94-.94-2.06-.94 2.06-2.06.94z\"/><path d=\"M17.41 7.96l-1.37-1.37c-.4-.4-.92-.59-1.43-.59-.52 0-1.04.2-1.43.59L10.3 9.45l-7.72 7.72c-.78.78-.78 2.05 0 2.83L4 21.41c.39.39.9.59 1.41.59.51 0 1.02-.2 1.41-.59l7.78-7.78 2.81-2.81c.8-.78.8-2.07 0-2.86zM5.41 20L4 18.59l7.72-7.72 1.47 1.35L5.41 20z\"/>\n",
              "  </svg>\n",
              "      </button>\n",
              "      \n",
              "  <style>\n",
              "    .colab-df-container {\n",
              "      display:flex;\n",
              "      flex-wrap:wrap;\n",
              "      gap: 12px;\n",
              "    }\n",
              "\n",
              "    .colab-df-convert {\n",
              "      background-color: #E8F0FE;\n",
              "      border: none;\n",
              "      border-radius: 50%;\n",
              "      cursor: pointer;\n",
              "      display: none;\n",
              "      fill: #1967D2;\n",
              "      height: 32px;\n",
              "      padding: 0 0 0 0;\n",
              "      width: 32px;\n",
              "    }\n",
              "\n",
              "    .colab-df-convert:hover {\n",
              "      background-color: #E2EBFA;\n",
              "      box-shadow: 0px 1px 2px rgba(60, 64, 67, 0.3), 0px 1px 3px 1px rgba(60, 64, 67, 0.15);\n",
              "      fill: #174EA6;\n",
              "    }\n",
              "\n",
              "    [theme=dark] .colab-df-convert {\n",
              "      background-color: #3B4455;\n",
              "      fill: #D2E3FC;\n",
              "    }\n",
              "\n",
              "    [theme=dark] .colab-df-convert:hover {\n",
              "      background-color: #434B5C;\n",
              "      box-shadow: 0px 1px 3px 1px rgba(0, 0, 0, 0.15);\n",
              "      filter: drop-shadow(0px 1px 2px rgba(0, 0, 0, 0.3));\n",
              "      fill: #FFFFFF;\n",
              "    }\n",
              "  </style>\n",
              "\n",
              "      <script>\n",
              "        const buttonEl =\n",
              "          document.querySelector('#df-ac63b862-95cd-452a-b28c-696063e74ab0 button.colab-df-convert');\n",
              "        buttonEl.style.display =\n",
              "          google.colab.kernel.accessAllowed ? 'block' : 'none';\n",
              "\n",
              "        async function convertToInteractive(key) {\n",
              "          const element = document.querySelector('#df-ac63b862-95cd-452a-b28c-696063e74ab0');\n",
              "          const dataTable =\n",
              "            await google.colab.kernel.invokeFunction('convertToInteractive',\n",
              "                                                     [key], {});\n",
              "          if (!dataTable) return;\n",
              "\n",
              "          const docLinkHtml = 'Like what you see? Visit the ' +\n",
              "            '<a target=\"_blank\" href=https://colab.research.google.com/notebooks/data_table.ipynb>data table notebook</a>'\n",
              "            + ' to learn more about interactive tables.';\n",
              "          element.innerHTML = '';\n",
              "          dataTable['output_type'] = 'display_data';\n",
              "          await google.colab.output.renderOutput(dataTable, element);\n",
              "          const docLink = document.createElement('div');\n",
              "          docLink.innerHTML = docLinkHtml;\n",
              "          element.appendChild(docLink);\n",
              "        }\n",
              "      </script>\n",
              "    </div>\n",
              "  </div>\n",
              "  "
            ]
          },
          "metadata": {},
          "execution_count": 355
        }
      ]
    },
    {
      "cell_type": "code",
      "source": [
        "# Chuyển đổi định dạng của cột \"CustomerID\"\n",
        "df['CustomerID'] = df['CustomerID'].astype(str)"
      ],
      "metadata": {
        "id": "SghHhCM6Mq_D"
      },
      "execution_count": 356,
      "outputs": []
    },
    {
      "cell_type": "markdown",
      "source": [
        "### **Phân tích RFM**"
      ],
      "metadata": {
        "id": "JOCbwXBSMxAJ"
      }
    },
    {
      "cell_type": "markdown",
      "source": [
        "- R (Recency): Số ngày kể từ lần mua gần đây nhất.\n",
        "- F (Frequency): Số lần mua (Tần suất).\n",
        "- M (Monetary): Doanh thu"
      ],
      "metadata": {
        "id": "XZ0bVYUlM6_p"
      }
    },
    {
      "cell_type": "code",
      "source": [
        "df['Amount'] = df['Quantity'] * df['UnitPrice']\n",
        "rfm_m = df.groupby('CustomerID')['Amount'].sum()\n",
        "rfm_m = rfm_m.reset_index()\n",
        "rfm_m.head()"
      ],
      "metadata": {
        "colab": {
          "base_uri": "https://localhost:8080/",
          "height": 206
        },
        "id": "vW65lfyvM8Uh",
        "outputId": "0874330e-fcd0-4698-a2a1-e8b00dd83641"
      },
      "execution_count": 357,
      "outputs": [
        {
          "output_type": "execute_result",
          "data": {
            "text/plain": [
              "  CustomerID   Amount\n",
              "0    12346.0     0.00\n",
              "1    12347.0  4310.00\n",
              "2    12348.0  1797.24\n",
              "3    12349.0  1757.55\n",
              "4    12350.0   334.40"
            ],
            "text/html": [
              "\n",
              "  <div id=\"df-70e34faa-63c6-445f-bc67-444bf5940e0c\">\n",
              "    <div class=\"colab-df-container\">\n",
              "      <div>\n",
              "<style scoped>\n",
              "    .dataframe tbody tr th:only-of-type {\n",
              "        vertical-align: middle;\n",
              "    }\n",
              "\n",
              "    .dataframe tbody tr th {\n",
              "        vertical-align: top;\n",
              "    }\n",
              "\n",
              "    .dataframe thead th {\n",
              "        text-align: right;\n",
              "    }\n",
              "</style>\n",
              "<table border=\"1\" class=\"dataframe\">\n",
              "  <thead>\n",
              "    <tr style=\"text-align: right;\">\n",
              "      <th></th>\n",
              "      <th>CustomerID</th>\n",
              "      <th>Amount</th>\n",
              "    </tr>\n",
              "  </thead>\n",
              "  <tbody>\n",
              "    <tr>\n",
              "      <th>0</th>\n",
              "      <td>12346.0</td>\n",
              "      <td>0.00</td>\n",
              "    </tr>\n",
              "    <tr>\n",
              "      <th>1</th>\n",
              "      <td>12347.0</td>\n",
              "      <td>4310.00</td>\n",
              "    </tr>\n",
              "    <tr>\n",
              "      <th>2</th>\n",
              "      <td>12348.0</td>\n",
              "      <td>1797.24</td>\n",
              "    </tr>\n",
              "    <tr>\n",
              "      <th>3</th>\n",
              "      <td>12349.0</td>\n",
              "      <td>1757.55</td>\n",
              "    </tr>\n",
              "    <tr>\n",
              "      <th>4</th>\n",
              "      <td>12350.0</td>\n",
              "      <td>334.40</td>\n",
              "    </tr>\n",
              "  </tbody>\n",
              "</table>\n",
              "</div>\n",
              "      <button class=\"colab-df-convert\" onclick=\"convertToInteractive('df-70e34faa-63c6-445f-bc67-444bf5940e0c')\"\n",
              "              title=\"Convert this dataframe to an interactive table.\"\n",
              "              style=\"display:none;\">\n",
              "        \n",
              "  <svg xmlns=\"http://www.w3.org/2000/svg\" height=\"24px\"viewBox=\"0 0 24 24\"\n",
              "       width=\"24px\">\n",
              "    <path d=\"M0 0h24v24H0V0z\" fill=\"none\"/>\n",
              "    <path d=\"M18.56 5.44l.94 2.06.94-2.06 2.06-.94-2.06-.94-.94-2.06-.94 2.06-2.06.94zm-11 1L8.5 8.5l.94-2.06 2.06-.94-2.06-.94L8.5 2.5l-.94 2.06-2.06.94zm10 10l.94 2.06.94-2.06 2.06-.94-2.06-.94-.94-2.06-.94 2.06-2.06.94z\"/><path d=\"M17.41 7.96l-1.37-1.37c-.4-.4-.92-.59-1.43-.59-.52 0-1.04.2-1.43.59L10.3 9.45l-7.72 7.72c-.78.78-.78 2.05 0 2.83L4 21.41c.39.39.9.59 1.41.59.51 0 1.02-.2 1.41-.59l7.78-7.78 2.81-2.81c.8-.78.8-2.07 0-2.86zM5.41 20L4 18.59l7.72-7.72 1.47 1.35L5.41 20z\"/>\n",
              "  </svg>\n",
              "      </button>\n",
              "      \n",
              "  <style>\n",
              "    .colab-df-container {\n",
              "      display:flex;\n",
              "      flex-wrap:wrap;\n",
              "      gap: 12px;\n",
              "    }\n",
              "\n",
              "    .colab-df-convert {\n",
              "      background-color: #E8F0FE;\n",
              "      border: none;\n",
              "      border-radius: 50%;\n",
              "      cursor: pointer;\n",
              "      display: none;\n",
              "      fill: #1967D2;\n",
              "      height: 32px;\n",
              "      padding: 0 0 0 0;\n",
              "      width: 32px;\n",
              "    }\n",
              "\n",
              "    .colab-df-convert:hover {\n",
              "      background-color: #E2EBFA;\n",
              "      box-shadow: 0px 1px 2px rgba(60, 64, 67, 0.3), 0px 1px 3px 1px rgba(60, 64, 67, 0.15);\n",
              "      fill: #174EA6;\n",
              "    }\n",
              "\n",
              "    [theme=dark] .colab-df-convert {\n",
              "      background-color: #3B4455;\n",
              "      fill: #D2E3FC;\n",
              "    }\n",
              "\n",
              "    [theme=dark] .colab-df-convert:hover {\n",
              "      background-color: #434B5C;\n",
              "      box-shadow: 0px 1px 3px 1px rgba(0, 0, 0, 0.15);\n",
              "      filter: drop-shadow(0px 1px 2px rgba(0, 0, 0, 0.3));\n",
              "      fill: #FFFFFF;\n",
              "    }\n",
              "  </style>\n",
              "\n",
              "      <script>\n",
              "        const buttonEl =\n",
              "          document.querySelector('#df-70e34faa-63c6-445f-bc67-444bf5940e0c button.colab-df-convert');\n",
              "        buttonEl.style.display =\n",
              "          google.colab.kernel.accessAllowed ? 'block' : 'none';\n",
              "\n",
              "        async function convertToInteractive(key) {\n",
              "          const element = document.querySelector('#df-70e34faa-63c6-445f-bc67-444bf5940e0c');\n",
              "          const dataTable =\n",
              "            await google.colab.kernel.invokeFunction('convertToInteractive',\n",
              "                                                     [key], {});\n",
              "          if (!dataTable) return;\n",
              "\n",
              "          const docLinkHtml = 'Like what you see? Visit the ' +\n",
              "            '<a target=\"_blank\" href=https://colab.research.google.com/notebooks/data_table.ipynb>data table notebook</a>'\n",
              "            + ' to learn more about interactive tables.';\n",
              "          element.innerHTML = '';\n",
              "          dataTable['output_type'] = 'display_data';\n",
              "          await google.colab.output.renderOutput(dataTable, element);\n",
              "          const docLink = document.createElement('div');\n",
              "          docLink.innerHTML = docLinkHtml;\n",
              "          element.appendChild(docLink);\n",
              "        }\n",
              "      </script>\n",
              "    </div>\n",
              "  </div>\n",
              "  "
            ]
          },
          "metadata": {},
          "execution_count": 357
        }
      ]
    },
    {
      "cell_type": "code",
      "source": [
        "rfm_f = df.groupby('CustomerID')['InvoiceNo'].count()\n",
        "rfm_f = rfm_f.reset_index()\n",
        "rfm_f.columns = ['CustomerID', 'Frequency']\n",
        "rfm_f.head()"
      ],
      "metadata": {
        "colab": {
          "base_uri": "https://localhost:8080/",
          "height": 206
        },
        "id": "Lwv4vZ_lNKGI",
        "outputId": "d748fad2-da33-4fb6-db96-b0ed807c5957"
      },
      "execution_count": 358,
      "outputs": [
        {
          "output_type": "execute_result",
          "data": {
            "text/plain": [
              "  CustomerID  Frequency\n",
              "0    12346.0          2\n",
              "1    12347.0        182\n",
              "2    12348.0         31\n",
              "3    12349.0         73\n",
              "4    12350.0         17"
            ],
            "text/html": [
              "\n",
              "  <div id=\"df-d5f94409-911e-428a-b51a-f0b156a0db7f\">\n",
              "    <div class=\"colab-df-container\">\n",
              "      <div>\n",
              "<style scoped>\n",
              "    .dataframe tbody tr th:only-of-type {\n",
              "        vertical-align: middle;\n",
              "    }\n",
              "\n",
              "    .dataframe tbody tr th {\n",
              "        vertical-align: top;\n",
              "    }\n",
              "\n",
              "    .dataframe thead th {\n",
              "        text-align: right;\n",
              "    }\n",
              "</style>\n",
              "<table border=\"1\" class=\"dataframe\">\n",
              "  <thead>\n",
              "    <tr style=\"text-align: right;\">\n",
              "      <th></th>\n",
              "      <th>CustomerID</th>\n",
              "      <th>Frequency</th>\n",
              "    </tr>\n",
              "  </thead>\n",
              "  <tbody>\n",
              "    <tr>\n",
              "      <th>0</th>\n",
              "      <td>12346.0</td>\n",
              "      <td>2</td>\n",
              "    </tr>\n",
              "    <tr>\n",
              "      <th>1</th>\n",
              "      <td>12347.0</td>\n",
              "      <td>182</td>\n",
              "    </tr>\n",
              "    <tr>\n",
              "      <th>2</th>\n",
              "      <td>12348.0</td>\n",
              "      <td>31</td>\n",
              "    </tr>\n",
              "    <tr>\n",
              "      <th>3</th>\n",
              "      <td>12349.0</td>\n",
              "      <td>73</td>\n",
              "    </tr>\n",
              "    <tr>\n",
              "      <th>4</th>\n",
              "      <td>12350.0</td>\n",
              "      <td>17</td>\n",
              "    </tr>\n",
              "  </tbody>\n",
              "</table>\n",
              "</div>\n",
              "      <button class=\"colab-df-convert\" onclick=\"convertToInteractive('df-d5f94409-911e-428a-b51a-f0b156a0db7f')\"\n",
              "              title=\"Convert this dataframe to an interactive table.\"\n",
              "              style=\"display:none;\">\n",
              "        \n",
              "  <svg xmlns=\"http://www.w3.org/2000/svg\" height=\"24px\"viewBox=\"0 0 24 24\"\n",
              "       width=\"24px\">\n",
              "    <path d=\"M0 0h24v24H0V0z\" fill=\"none\"/>\n",
              "    <path d=\"M18.56 5.44l.94 2.06.94-2.06 2.06-.94-2.06-.94-.94-2.06-.94 2.06-2.06.94zm-11 1L8.5 8.5l.94-2.06 2.06-.94-2.06-.94L8.5 2.5l-.94 2.06-2.06.94zm10 10l.94 2.06.94-2.06 2.06-.94-2.06-.94-.94-2.06-.94 2.06-2.06.94z\"/><path d=\"M17.41 7.96l-1.37-1.37c-.4-.4-.92-.59-1.43-.59-.52 0-1.04.2-1.43.59L10.3 9.45l-7.72 7.72c-.78.78-.78 2.05 0 2.83L4 21.41c.39.39.9.59 1.41.59.51 0 1.02-.2 1.41-.59l7.78-7.78 2.81-2.81c.8-.78.8-2.07 0-2.86zM5.41 20L4 18.59l7.72-7.72 1.47 1.35L5.41 20z\"/>\n",
              "  </svg>\n",
              "      </button>\n",
              "      \n",
              "  <style>\n",
              "    .colab-df-container {\n",
              "      display:flex;\n",
              "      flex-wrap:wrap;\n",
              "      gap: 12px;\n",
              "    }\n",
              "\n",
              "    .colab-df-convert {\n",
              "      background-color: #E8F0FE;\n",
              "      border: none;\n",
              "      border-radius: 50%;\n",
              "      cursor: pointer;\n",
              "      display: none;\n",
              "      fill: #1967D2;\n",
              "      height: 32px;\n",
              "      padding: 0 0 0 0;\n",
              "      width: 32px;\n",
              "    }\n",
              "\n",
              "    .colab-df-convert:hover {\n",
              "      background-color: #E2EBFA;\n",
              "      box-shadow: 0px 1px 2px rgba(60, 64, 67, 0.3), 0px 1px 3px 1px rgba(60, 64, 67, 0.15);\n",
              "      fill: #174EA6;\n",
              "    }\n",
              "\n",
              "    [theme=dark] .colab-df-convert {\n",
              "      background-color: #3B4455;\n",
              "      fill: #D2E3FC;\n",
              "    }\n",
              "\n",
              "    [theme=dark] .colab-df-convert:hover {\n",
              "      background-color: #434B5C;\n",
              "      box-shadow: 0px 1px 3px 1px rgba(0, 0, 0, 0.15);\n",
              "      filter: drop-shadow(0px 1px 2px rgba(0, 0, 0, 0.3));\n",
              "      fill: #FFFFFF;\n",
              "    }\n",
              "  </style>\n",
              "\n",
              "      <script>\n",
              "        const buttonEl =\n",
              "          document.querySelector('#df-d5f94409-911e-428a-b51a-f0b156a0db7f button.colab-df-convert');\n",
              "        buttonEl.style.display =\n",
              "          google.colab.kernel.accessAllowed ? 'block' : 'none';\n",
              "\n",
              "        async function convertToInteractive(key) {\n",
              "          const element = document.querySelector('#df-d5f94409-911e-428a-b51a-f0b156a0db7f');\n",
              "          const dataTable =\n",
              "            await google.colab.kernel.invokeFunction('convertToInteractive',\n",
              "                                                     [key], {});\n",
              "          if (!dataTable) return;\n",
              "\n",
              "          const docLinkHtml = 'Like what you see? Visit the ' +\n",
              "            '<a target=\"_blank\" href=https://colab.research.google.com/notebooks/data_table.ipynb>data table notebook</a>'\n",
              "            + ' to learn more about interactive tables.';\n",
              "          element.innerHTML = '';\n",
              "          dataTable['output_type'] = 'display_data';\n",
              "          await google.colab.output.renderOutput(dataTable, element);\n",
              "          const docLink = document.createElement('div');\n",
              "          docLink.innerHTML = docLinkHtml;\n",
              "          element.appendChild(docLink);\n",
              "        }\n",
              "      </script>\n",
              "    </div>\n",
              "  </div>\n",
              "  "
            ]
          },
          "metadata": {},
          "execution_count": 358
        }
      ]
    },
    {
      "cell_type": "code",
      "source": [
        "# Hợp nhất hai DataFrame trên\n",
        "rfm = pd.merge(rfm_m, rfm_f, on = 'CustomerID', how = 'inner')\n",
        "rfm.head()"
      ],
      "metadata": {
        "colab": {
          "base_uri": "https://localhost:8080/",
          "height": 206
        },
        "id": "rld_lm49NEIY",
        "outputId": "b4ced0b0-0232-426a-9a1b-c68df8907f0b"
      },
      "execution_count": 359,
      "outputs": [
        {
          "output_type": "execute_result",
          "data": {
            "text/plain": [
              "  CustomerID   Amount  Frequency\n",
              "0    12346.0     0.00          2\n",
              "1    12347.0  4310.00        182\n",
              "2    12348.0  1797.24         31\n",
              "3    12349.0  1757.55         73\n",
              "4    12350.0   334.40         17"
            ],
            "text/html": [
              "\n",
              "  <div id=\"df-8455efc8-72f6-400a-a0b8-653c890e1243\">\n",
              "    <div class=\"colab-df-container\">\n",
              "      <div>\n",
              "<style scoped>\n",
              "    .dataframe tbody tr th:only-of-type {\n",
              "        vertical-align: middle;\n",
              "    }\n",
              "\n",
              "    .dataframe tbody tr th {\n",
              "        vertical-align: top;\n",
              "    }\n",
              "\n",
              "    .dataframe thead th {\n",
              "        text-align: right;\n",
              "    }\n",
              "</style>\n",
              "<table border=\"1\" class=\"dataframe\">\n",
              "  <thead>\n",
              "    <tr style=\"text-align: right;\">\n",
              "      <th></th>\n",
              "      <th>CustomerID</th>\n",
              "      <th>Amount</th>\n",
              "      <th>Frequency</th>\n",
              "    </tr>\n",
              "  </thead>\n",
              "  <tbody>\n",
              "    <tr>\n",
              "      <th>0</th>\n",
              "      <td>12346.0</td>\n",
              "      <td>0.00</td>\n",
              "      <td>2</td>\n",
              "    </tr>\n",
              "    <tr>\n",
              "      <th>1</th>\n",
              "      <td>12347.0</td>\n",
              "      <td>4310.00</td>\n",
              "      <td>182</td>\n",
              "    </tr>\n",
              "    <tr>\n",
              "      <th>2</th>\n",
              "      <td>12348.0</td>\n",
              "      <td>1797.24</td>\n",
              "      <td>31</td>\n",
              "    </tr>\n",
              "    <tr>\n",
              "      <th>3</th>\n",
              "      <td>12349.0</td>\n",
              "      <td>1757.55</td>\n",
              "      <td>73</td>\n",
              "    </tr>\n",
              "    <tr>\n",
              "      <th>4</th>\n",
              "      <td>12350.0</td>\n",
              "      <td>334.40</td>\n",
              "      <td>17</td>\n",
              "    </tr>\n",
              "  </tbody>\n",
              "</table>\n",
              "</div>\n",
              "      <button class=\"colab-df-convert\" onclick=\"convertToInteractive('df-8455efc8-72f6-400a-a0b8-653c890e1243')\"\n",
              "              title=\"Convert this dataframe to an interactive table.\"\n",
              "              style=\"display:none;\">\n",
              "        \n",
              "  <svg xmlns=\"http://www.w3.org/2000/svg\" height=\"24px\"viewBox=\"0 0 24 24\"\n",
              "       width=\"24px\">\n",
              "    <path d=\"M0 0h24v24H0V0z\" fill=\"none\"/>\n",
              "    <path d=\"M18.56 5.44l.94 2.06.94-2.06 2.06-.94-2.06-.94-.94-2.06-.94 2.06-2.06.94zm-11 1L8.5 8.5l.94-2.06 2.06-.94-2.06-.94L8.5 2.5l-.94 2.06-2.06.94zm10 10l.94 2.06.94-2.06 2.06-.94-2.06-.94-.94-2.06-.94 2.06-2.06.94z\"/><path d=\"M17.41 7.96l-1.37-1.37c-.4-.4-.92-.59-1.43-.59-.52 0-1.04.2-1.43.59L10.3 9.45l-7.72 7.72c-.78.78-.78 2.05 0 2.83L4 21.41c.39.39.9.59 1.41.59.51 0 1.02-.2 1.41-.59l7.78-7.78 2.81-2.81c.8-.78.8-2.07 0-2.86zM5.41 20L4 18.59l7.72-7.72 1.47 1.35L5.41 20z\"/>\n",
              "  </svg>\n",
              "      </button>\n",
              "      \n",
              "  <style>\n",
              "    .colab-df-container {\n",
              "      display:flex;\n",
              "      flex-wrap:wrap;\n",
              "      gap: 12px;\n",
              "    }\n",
              "\n",
              "    .colab-df-convert {\n",
              "      background-color: #E8F0FE;\n",
              "      border: none;\n",
              "      border-radius: 50%;\n",
              "      cursor: pointer;\n",
              "      display: none;\n",
              "      fill: #1967D2;\n",
              "      height: 32px;\n",
              "      padding: 0 0 0 0;\n",
              "      width: 32px;\n",
              "    }\n",
              "\n",
              "    .colab-df-convert:hover {\n",
              "      background-color: #E2EBFA;\n",
              "      box-shadow: 0px 1px 2px rgba(60, 64, 67, 0.3), 0px 1px 3px 1px rgba(60, 64, 67, 0.15);\n",
              "      fill: #174EA6;\n",
              "    }\n",
              "\n",
              "    [theme=dark] .colab-df-convert {\n",
              "      background-color: #3B4455;\n",
              "      fill: #D2E3FC;\n",
              "    }\n",
              "\n",
              "    [theme=dark] .colab-df-convert:hover {\n",
              "      background-color: #434B5C;\n",
              "      box-shadow: 0px 1px 3px 1px rgba(0, 0, 0, 0.15);\n",
              "      filter: drop-shadow(0px 1px 2px rgba(0, 0, 0, 0.3));\n",
              "      fill: #FFFFFF;\n",
              "    }\n",
              "  </style>\n",
              "\n",
              "      <script>\n",
              "        const buttonEl =\n",
              "          document.querySelector('#df-8455efc8-72f6-400a-a0b8-653c890e1243 button.colab-df-convert');\n",
              "        buttonEl.style.display =\n",
              "          google.colab.kernel.accessAllowed ? 'block' : 'none';\n",
              "\n",
              "        async function convertToInteractive(key) {\n",
              "          const element = document.querySelector('#df-8455efc8-72f6-400a-a0b8-653c890e1243');\n",
              "          const dataTable =\n",
              "            await google.colab.kernel.invokeFunction('convertToInteractive',\n",
              "                                                     [key], {});\n",
              "          if (!dataTable) return;\n",
              "\n",
              "          const docLinkHtml = 'Like what you see? Visit the ' +\n",
              "            '<a target=\"_blank\" href=https://colab.research.google.com/notebooks/data_table.ipynb>data table notebook</a>'\n",
              "            + ' to learn more about interactive tables.';\n",
              "          element.innerHTML = '';\n",
              "          dataTable['output_type'] = 'display_data';\n",
              "          await google.colab.output.renderOutput(dataTable, element);\n",
              "          const docLink = document.createElement('div');\n",
              "          docLink.innerHTML = docLinkHtml;\n",
              "          element.appendChild(docLink);\n",
              "        }\n",
              "      </script>\n",
              "    </div>\n",
              "  </div>\n",
              "  "
            ]
          },
          "metadata": {},
          "execution_count": 359
        }
      ]
    },
    {
      "cell_type": "code",
      "source": [
        "# Chuyển đổi định dạng của cột \"InvoiceDate\"\n",
        "df[\"InvoiceDate\"] = pd.to_datetime(df[\"InvoiceDate\"], format = \"%d-%m-%Y %H:%M\")"
      ],
      "metadata": {
        "id": "mu21vWVhNP-e"
      },
      "execution_count": 360,
      "outputs": []
    },
    {
      "cell_type": "code",
      "source": [
        "# Xem ngày bán cuối cùng trong dữ liệu trên\n",
        "max_date = max(df['InvoiceDate'])\n",
        "max_date"
      ],
      "metadata": {
        "colab": {
          "base_uri": "https://localhost:8080/"
        },
        "id": "w0tOx_ZlNUTV",
        "outputId": "0a62782e-cc0f-4589-d921-2dcfb905eca0"
      },
      "execution_count": 361,
      "outputs": [
        {
          "output_type": "execute_result",
          "data": {
            "text/plain": [
              "Timestamp('2011-12-09 12:50:00')"
            ]
          },
          "metadata": {},
          "execution_count": 361
        }
      ]
    },
    {
      "cell_type": "code",
      "source": [
        "# Thêm cột chỉ khoảng cách giữa ngày mua với last_date\n",
        "df['Diff'] = max_date - df['InvoiceDate']\n",
        "df.head()"
      ],
      "metadata": {
        "colab": {
          "base_uri": "https://localhost:8080/",
          "height": 337
        },
        "id": "ARaMr1nbNY0V",
        "outputId": "9b4c04db-5ac1-44a4-99fe-05b93182a6eb"
      },
      "execution_count": 362,
      "outputs": [
        {
          "output_type": "execute_result",
          "data": {
            "text/plain": [
              "  InvoiceNo StockCode                          Description  Quantity  \\\n",
              "0    536365    85123A   WHITE HANGING HEART T-LIGHT HOLDER         6   \n",
              "1    536365     71053                  WHITE METAL LANTERN         6   \n",
              "2    536365    84406B       CREAM CUPID HEARTS COAT HANGER         8   \n",
              "3    536365    84029G  KNITTED UNION FLAG HOT WATER BOTTLE         6   \n",
              "4    536365    84029E       RED WOOLLY HOTTIE WHITE HEART.         6   \n",
              "\n",
              "          InvoiceDate  UnitPrice CustomerID         Country  Amount  \\\n",
              "0 2010-12-01 08:26:00       2.55    17850.0  United Kingdom   15.30   \n",
              "1 2010-12-01 08:26:00       3.39    17850.0  United Kingdom   20.34   \n",
              "2 2010-12-01 08:26:00       2.75    17850.0  United Kingdom   22.00   \n",
              "3 2010-12-01 08:26:00       3.39    17850.0  United Kingdom   20.34   \n",
              "4 2010-12-01 08:26:00       3.39    17850.0  United Kingdom   20.34   \n",
              "\n",
              "               Diff  \n",
              "0 373 days 04:24:00  \n",
              "1 373 days 04:24:00  \n",
              "2 373 days 04:24:00  \n",
              "3 373 days 04:24:00  \n",
              "4 373 days 04:24:00  "
            ],
            "text/html": [
              "\n",
              "  <div id=\"df-296879f5-44db-456b-88d0-b8d88a9da7ce\">\n",
              "    <div class=\"colab-df-container\">\n",
              "      <div>\n",
              "<style scoped>\n",
              "    .dataframe tbody tr th:only-of-type {\n",
              "        vertical-align: middle;\n",
              "    }\n",
              "\n",
              "    .dataframe tbody tr th {\n",
              "        vertical-align: top;\n",
              "    }\n",
              "\n",
              "    .dataframe thead th {\n",
              "        text-align: right;\n",
              "    }\n",
              "</style>\n",
              "<table border=\"1\" class=\"dataframe\">\n",
              "  <thead>\n",
              "    <tr style=\"text-align: right;\">\n",
              "      <th></th>\n",
              "      <th>InvoiceNo</th>\n",
              "      <th>StockCode</th>\n",
              "      <th>Description</th>\n",
              "      <th>Quantity</th>\n",
              "      <th>InvoiceDate</th>\n",
              "      <th>UnitPrice</th>\n",
              "      <th>CustomerID</th>\n",
              "      <th>Country</th>\n",
              "      <th>Amount</th>\n",
              "      <th>Diff</th>\n",
              "    </tr>\n",
              "  </thead>\n",
              "  <tbody>\n",
              "    <tr>\n",
              "      <th>0</th>\n",
              "      <td>536365</td>\n",
              "      <td>85123A</td>\n",
              "      <td>WHITE HANGING HEART T-LIGHT HOLDER</td>\n",
              "      <td>6</td>\n",
              "      <td>2010-12-01 08:26:00</td>\n",
              "      <td>2.55</td>\n",
              "      <td>17850.0</td>\n",
              "      <td>United Kingdom</td>\n",
              "      <td>15.30</td>\n",
              "      <td>373 days 04:24:00</td>\n",
              "    </tr>\n",
              "    <tr>\n",
              "      <th>1</th>\n",
              "      <td>536365</td>\n",
              "      <td>71053</td>\n",
              "      <td>WHITE METAL LANTERN</td>\n",
              "      <td>6</td>\n",
              "      <td>2010-12-01 08:26:00</td>\n",
              "      <td>3.39</td>\n",
              "      <td>17850.0</td>\n",
              "      <td>United Kingdom</td>\n",
              "      <td>20.34</td>\n",
              "      <td>373 days 04:24:00</td>\n",
              "    </tr>\n",
              "    <tr>\n",
              "      <th>2</th>\n",
              "      <td>536365</td>\n",
              "      <td>84406B</td>\n",
              "      <td>CREAM CUPID HEARTS COAT HANGER</td>\n",
              "      <td>8</td>\n",
              "      <td>2010-12-01 08:26:00</td>\n",
              "      <td>2.75</td>\n",
              "      <td>17850.0</td>\n",
              "      <td>United Kingdom</td>\n",
              "      <td>22.00</td>\n",
              "      <td>373 days 04:24:00</td>\n",
              "    </tr>\n",
              "    <tr>\n",
              "      <th>3</th>\n",
              "      <td>536365</td>\n",
              "      <td>84029G</td>\n",
              "      <td>KNITTED UNION FLAG HOT WATER BOTTLE</td>\n",
              "      <td>6</td>\n",
              "      <td>2010-12-01 08:26:00</td>\n",
              "      <td>3.39</td>\n",
              "      <td>17850.0</td>\n",
              "      <td>United Kingdom</td>\n",
              "      <td>20.34</td>\n",
              "      <td>373 days 04:24:00</td>\n",
              "    </tr>\n",
              "    <tr>\n",
              "      <th>4</th>\n",
              "      <td>536365</td>\n",
              "      <td>84029E</td>\n",
              "      <td>RED WOOLLY HOTTIE WHITE HEART.</td>\n",
              "      <td>6</td>\n",
              "      <td>2010-12-01 08:26:00</td>\n",
              "      <td>3.39</td>\n",
              "      <td>17850.0</td>\n",
              "      <td>United Kingdom</td>\n",
              "      <td>20.34</td>\n",
              "      <td>373 days 04:24:00</td>\n",
              "    </tr>\n",
              "  </tbody>\n",
              "</table>\n",
              "</div>\n",
              "      <button class=\"colab-df-convert\" onclick=\"convertToInteractive('df-296879f5-44db-456b-88d0-b8d88a9da7ce')\"\n",
              "              title=\"Convert this dataframe to an interactive table.\"\n",
              "              style=\"display:none;\">\n",
              "        \n",
              "  <svg xmlns=\"http://www.w3.org/2000/svg\" height=\"24px\"viewBox=\"0 0 24 24\"\n",
              "       width=\"24px\">\n",
              "    <path d=\"M0 0h24v24H0V0z\" fill=\"none\"/>\n",
              "    <path d=\"M18.56 5.44l.94 2.06.94-2.06 2.06-.94-2.06-.94-.94-2.06-.94 2.06-2.06.94zm-11 1L8.5 8.5l.94-2.06 2.06-.94-2.06-.94L8.5 2.5l-.94 2.06-2.06.94zm10 10l.94 2.06.94-2.06 2.06-.94-2.06-.94-.94-2.06-.94 2.06-2.06.94z\"/><path d=\"M17.41 7.96l-1.37-1.37c-.4-.4-.92-.59-1.43-.59-.52 0-1.04.2-1.43.59L10.3 9.45l-7.72 7.72c-.78.78-.78 2.05 0 2.83L4 21.41c.39.39.9.59 1.41.59.51 0 1.02-.2 1.41-.59l7.78-7.78 2.81-2.81c.8-.78.8-2.07 0-2.86zM5.41 20L4 18.59l7.72-7.72 1.47 1.35L5.41 20z\"/>\n",
              "  </svg>\n",
              "      </button>\n",
              "      \n",
              "  <style>\n",
              "    .colab-df-container {\n",
              "      display:flex;\n",
              "      flex-wrap:wrap;\n",
              "      gap: 12px;\n",
              "    }\n",
              "\n",
              "    .colab-df-convert {\n",
              "      background-color: #E8F0FE;\n",
              "      border: none;\n",
              "      border-radius: 50%;\n",
              "      cursor: pointer;\n",
              "      display: none;\n",
              "      fill: #1967D2;\n",
              "      height: 32px;\n",
              "      padding: 0 0 0 0;\n",
              "      width: 32px;\n",
              "    }\n",
              "\n",
              "    .colab-df-convert:hover {\n",
              "      background-color: #E2EBFA;\n",
              "      box-shadow: 0px 1px 2px rgba(60, 64, 67, 0.3), 0px 1px 3px 1px rgba(60, 64, 67, 0.15);\n",
              "      fill: #174EA6;\n",
              "    }\n",
              "\n",
              "    [theme=dark] .colab-df-convert {\n",
              "      background-color: #3B4455;\n",
              "      fill: #D2E3FC;\n",
              "    }\n",
              "\n",
              "    [theme=dark] .colab-df-convert:hover {\n",
              "      background-color: #434B5C;\n",
              "      box-shadow: 0px 1px 3px 1px rgba(0, 0, 0, 0.15);\n",
              "      filter: drop-shadow(0px 1px 2px rgba(0, 0, 0, 0.3));\n",
              "      fill: #FFFFFF;\n",
              "    }\n",
              "  </style>\n",
              "\n",
              "      <script>\n",
              "        const buttonEl =\n",
              "          document.querySelector('#df-296879f5-44db-456b-88d0-b8d88a9da7ce button.colab-df-convert');\n",
              "        buttonEl.style.display =\n",
              "          google.colab.kernel.accessAllowed ? 'block' : 'none';\n",
              "\n",
              "        async function convertToInteractive(key) {\n",
              "          const element = document.querySelector('#df-296879f5-44db-456b-88d0-b8d88a9da7ce');\n",
              "          const dataTable =\n",
              "            await google.colab.kernel.invokeFunction('convertToInteractive',\n",
              "                                                     [key], {});\n",
              "          if (!dataTable) return;\n",
              "\n",
              "          const docLinkHtml = 'Like what you see? Visit the ' +\n",
              "            '<a target=\"_blank\" href=https://colab.research.google.com/notebooks/data_table.ipynb>data table notebook</a>'\n",
              "            + ' to learn more about interactive tables.';\n",
              "          element.innerHTML = '';\n",
              "          dataTable['output_type'] = 'display_data';\n",
              "          await google.colab.output.renderOutput(dataTable, element);\n",
              "          const docLink = document.createElement('div');\n",
              "          docLink.innerHTML = docLinkHtml;\n",
              "          element.appendChild(docLink);\n",
              "        }\n",
              "      </script>\n",
              "    </div>\n",
              "  </div>\n",
              "  "
            ]
          },
          "metadata": {},
          "execution_count": 362
        }
      ]
    },
    {
      "cell_type": "code",
      "source": [
        "rfm_p = df.groupby('CustomerID')['Diff'].min()\n",
        "rfm_p = rfm_p.reset_index()\n",
        "rfm_p.head()"
      ],
      "metadata": {
        "colab": {
          "base_uri": "https://localhost:8080/",
          "height": 206
        },
        "id": "QkFZRI1NNc6_",
        "outputId": "a9ffca76-c35d-495b-e217-3a76b0a77e88"
      },
      "execution_count": 363,
      "outputs": [
        {
          "output_type": "execute_result",
          "data": {
            "text/plain": [
              "  CustomerID              Diff\n",
              "0    12346.0 325 days 02:33:00\n",
              "1    12347.0   1 days 20:58:00\n",
              "2    12348.0  74 days 23:37:00\n",
              "3    12349.0  18 days 02:59:00\n",
              "4    12350.0 309 days 20:49:00"
            ],
            "text/html": [
              "\n",
              "  <div id=\"df-f629ceb9-121d-4c47-8c5a-ef342760efb5\">\n",
              "    <div class=\"colab-df-container\">\n",
              "      <div>\n",
              "<style scoped>\n",
              "    .dataframe tbody tr th:only-of-type {\n",
              "        vertical-align: middle;\n",
              "    }\n",
              "\n",
              "    .dataframe tbody tr th {\n",
              "        vertical-align: top;\n",
              "    }\n",
              "\n",
              "    .dataframe thead th {\n",
              "        text-align: right;\n",
              "    }\n",
              "</style>\n",
              "<table border=\"1\" class=\"dataframe\">\n",
              "  <thead>\n",
              "    <tr style=\"text-align: right;\">\n",
              "      <th></th>\n",
              "      <th>CustomerID</th>\n",
              "      <th>Diff</th>\n",
              "    </tr>\n",
              "  </thead>\n",
              "  <tbody>\n",
              "    <tr>\n",
              "      <th>0</th>\n",
              "      <td>12346.0</td>\n",
              "      <td>325 days 02:33:00</td>\n",
              "    </tr>\n",
              "    <tr>\n",
              "      <th>1</th>\n",
              "      <td>12347.0</td>\n",
              "      <td>1 days 20:58:00</td>\n",
              "    </tr>\n",
              "    <tr>\n",
              "      <th>2</th>\n",
              "      <td>12348.0</td>\n",
              "      <td>74 days 23:37:00</td>\n",
              "    </tr>\n",
              "    <tr>\n",
              "      <th>3</th>\n",
              "      <td>12349.0</td>\n",
              "      <td>18 days 02:59:00</td>\n",
              "    </tr>\n",
              "    <tr>\n",
              "      <th>4</th>\n",
              "      <td>12350.0</td>\n",
              "      <td>309 days 20:49:00</td>\n",
              "    </tr>\n",
              "  </tbody>\n",
              "</table>\n",
              "</div>\n",
              "      <button class=\"colab-df-convert\" onclick=\"convertToInteractive('df-f629ceb9-121d-4c47-8c5a-ef342760efb5')\"\n",
              "              title=\"Convert this dataframe to an interactive table.\"\n",
              "              style=\"display:none;\">\n",
              "        \n",
              "  <svg xmlns=\"http://www.w3.org/2000/svg\" height=\"24px\"viewBox=\"0 0 24 24\"\n",
              "       width=\"24px\">\n",
              "    <path d=\"M0 0h24v24H0V0z\" fill=\"none\"/>\n",
              "    <path d=\"M18.56 5.44l.94 2.06.94-2.06 2.06-.94-2.06-.94-.94-2.06-.94 2.06-2.06.94zm-11 1L8.5 8.5l.94-2.06 2.06-.94-2.06-.94L8.5 2.5l-.94 2.06-2.06.94zm10 10l.94 2.06.94-2.06 2.06-.94-2.06-.94-.94-2.06-.94 2.06-2.06.94z\"/><path d=\"M17.41 7.96l-1.37-1.37c-.4-.4-.92-.59-1.43-.59-.52 0-1.04.2-1.43.59L10.3 9.45l-7.72 7.72c-.78.78-.78 2.05 0 2.83L4 21.41c.39.39.9.59 1.41.59.51 0 1.02-.2 1.41-.59l7.78-7.78 2.81-2.81c.8-.78.8-2.07 0-2.86zM5.41 20L4 18.59l7.72-7.72 1.47 1.35L5.41 20z\"/>\n",
              "  </svg>\n",
              "      </button>\n",
              "      \n",
              "  <style>\n",
              "    .colab-df-container {\n",
              "      display:flex;\n",
              "      flex-wrap:wrap;\n",
              "      gap: 12px;\n",
              "    }\n",
              "\n",
              "    .colab-df-convert {\n",
              "      background-color: #E8F0FE;\n",
              "      border: none;\n",
              "      border-radius: 50%;\n",
              "      cursor: pointer;\n",
              "      display: none;\n",
              "      fill: #1967D2;\n",
              "      height: 32px;\n",
              "      padding: 0 0 0 0;\n",
              "      width: 32px;\n",
              "    }\n",
              "\n",
              "    .colab-df-convert:hover {\n",
              "      background-color: #E2EBFA;\n",
              "      box-shadow: 0px 1px 2px rgba(60, 64, 67, 0.3), 0px 1px 3px 1px rgba(60, 64, 67, 0.15);\n",
              "      fill: #174EA6;\n",
              "    }\n",
              "\n",
              "    [theme=dark] .colab-df-convert {\n",
              "      background-color: #3B4455;\n",
              "      fill: #D2E3FC;\n",
              "    }\n",
              "\n",
              "    [theme=dark] .colab-df-convert:hover {\n",
              "      background-color: #434B5C;\n",
              "      box-shadow: 0px 1px 3px 1px rgba(0, 0, 0, 0.15);\n",
              "      filter: drop-shadow(0px 1px 2px rgba(0, 0, 0, 0.3));\n",
              "      fill: #FFFFFF;\n",
              "    }\n",
              "  </style>\n",
              "\n",
              "      <script>\n",
              "        const buttonEl =\n",
              "          document.querySelector('#df-f629ceb9-121d-4c47-8c5a-ef342760efb5 button.colab-df-convert');\n",
              "        buttonEl.style.display =\n",
              "          google.colab.kernel.accessAllowed ? 'block' : 'none';\n",
              "\n",
              "        async function convertToInteractive(key) {\n",
              "          const element = document.querySelector('#df-f629ceb9-121d-4c47-8c5a-ef342760efb5');\n",
              "          const dataTable =\n",
              "            await google.colab.kernel.invokeFunction('convertToInteractive',\n",
              "                                                     [key], {});\n",
              "          if (!dataTable) return;\n",
              "\n",
              "          const docLinkHtml = 'Like what you see? Visit the ' +\n",
              "            '<a target=\"_blank\" href=https://colab.research.google.com/notebooks/data_table.ipynb>data table notebook</a>'\n",
              "            + ' to learn more about interactive tables.';\n",
              "          element.innerHTML = '';\n",
              "          dataTable['output_type'] = 'display_data';\n",
              "          await google.colab.output.renderOutput(dataTable, element);\n",
              "          const docLink = document.createElement('div');\n",
              "          docLink.innerHTML = docLinkHtml;\n",
              "          element.appendChild(docLink);\n",
              "        }\n",
              "      </script>\n",
              "    </div>\n",
              "  </div>\n",
              "  "
            ]
          },
          "metadata": {},
          "execution_count": 363
        }
      ]
    },
    {
      "cell_type": "code",
      "source": [
        "# Cột \"Dis\" chỉ lấy ngày\n",
        "rfm_p['Diff'] = rfm_p['Diff'].dt.days\n",
        "rfm_p.head()"
      ],
      "metadata": {
        "colab": {
          "base_uri": "https://localhost:8080/",
          "height": 206
        },
        "id": "Uy0VxDWJNlOe",
        "outputId": "d2525313-0432-4e69-8caf-7afb3f77af69"
      },
      "execution_count": 364,
      "outputs": [
        {
          "output_type": "execute_result",
          "data": {
            "text/plain": [
              "  CustomerID  Diff\n",
              "0    12346.0   325\n",
              "1    12347.0     1\n",
              "2    12348.0    74\n",
              "3    12349.0    18\n",
              "4    12350.0   309"
            ],
            "text/html": [
              "\n",
              "  <div id=\"df-43f74548-5c7d-40a7-93f0-2a360c2ea4c1\">\n",
              "    <div class=\"colab-df-container\">\n",
              "      <div>\n",
              "<style scoped>\n",
              "    .dataframe tbody tr th:only-of-type {\n",
              "        vertical-align: middle;\n",
              "    }\n",
              "\n",
              "    .dataframe tbody tr th {\n",
              "        vertical-align: top;\n",
              "    }\n",
              "\n",
              "    .dataframe thead th {\n",
              "        text-align: right;\n",
              "    }\n",
              "</style>\n",
              "<table border=\"1\" class=\"dataframe\">\n",
              "  <thead>\n",
              "    <tr style=\"text-align: right;\">\n",
              "      <th></th>\n",
              "      <th>CustomerID</th>\n",
              "      <th>Diff</th>\n",
              "    </tr>\n",
              "  </thead>\n",
              "  <tbody>\n",
              "    <tr>\n",
              "      <th>0</th>\n",
              "      <td>12346.0</td>\n",
              "      <td>325</td>\n",
              "    </tr>\n",
              "    <tr>\n",
              "      <th>1</th>\n",
              "      <td>12347.0</td>\n",
              "      <td>1</td>\n",
              "    </tr>\n",
              "    <tr>\n",
              "      <th>2</th>\n",
              "      <td>12348.0</td>\n",
              "      <td>74</td>\n",
              "    </tr>\n",
              "    <tr>\n",
              "      <th>3</th>\n",
              "      <td>12349.0</td>\n",
              "      <td>18</td>\n",
              "    </tr>\n",
              "    <tr>\n",
              "      <th>4</th>\n",
              "      <td>12350.0</td>\n",
              "      <td>309</td>\n",
              "    </tr>\n",
              "  </tbody>\n",
              "</table>\n",
              "</div>\n",
              "      <button class=\"colab-df-convert\" onclick=\"convertToInteractive('df-43f74548-5c7d-40a7-93f0-2a360c2ea4c1')\"\n",
              "              title=\"Convert this dataframe to an interactive table.\"\n",
              "              style=\"display:none;\">\n",
              "        \n",
              "  <svg xmlns=\"http://www.w3.org/2000/svg\" height=\"24px\"viewBox=\"0 0 24 24\"\n",
              "       width=\"24px\">\n",
              "    <path d=\"M0 0h24v24H0V0z\" fill=\"none\"/>\n",
              "    <path d=\"M18.56 5.44l.94 2.06.94-2.06 2.06-.94-2.06-.94-.94-2.06-.94 2.06-2.06.94zm-11 1L8.5 8.5l.94-2.06 2.06-.94-2.06-.94L8.5 2.5l-.94 2.06-2.06.94zm10 10l.94 2.06.94-2.06 2.06-.94-2.06-.94-.94-2.06-.94 2.06-2.06.94z\"/><path d=\"M17.41 7.96l-1.37-1.37c-.4-.4-.92-.59-1.43-.59-.52 0-1.04.2-1.43.59L10.3 9.45l-7.72 7.72c-.78.78-.78 2.05 0 2.83L4 21.41c.39.39.9.59 1.41.59.51 0 1.02-.2 1.41-.59l7.78-7.78 2.81-2.81c.8-.78.8-2.07 0-2.86zM5.41 20L4 18.59l7.72-7.72 1.47 1.35L5.41 20z\"/>\n",
              "  </svg>\n",
              "      </button>\n",
              "      \n",
              "  <style>\n",
              "    .colab-df-container {\n",
              "      display:flex;\n",
              "      flex-wrap:wrap;\n",
              "      gap: 12px;\n",
              "    }\n",
              "\n",
              "    .colab-df-convert {\n",
              "      background-color: #E8F0FE;\n",
              "      border: none;\n",
              "      border-radius: 50%;\n",
              "      cursor: pointer;\n",
              "      display: none;\n",
              "      fill: #1967D2;\n",
              "      height: 32px;\n",
              "      padding: 0 0 0 0;\n",
              "      width: 32px;\n",
              "    }\n",
              "\n",
              "    .colab-df-convert:hover {\n",
              "      background-color: #E2EBFA;\n",
              "      box-shadow: 0px 1px 2px rgba(60, 64, 67, 0.3), 0px 1px 3px 1px rgba(60, 64, 67, 0.15);\n",
              "      fill: #174EA6;\n",
              "    }\n",
              "\n",
              "    [theme=dark] .colab-df-convert {\n",
              "      background-color: #3B4455;\n",
              "      fill: #D2E3FC;\n",
              "    }\n",
              "\n",
              "    [theme=dark] .colab-df-convert:hover {\n",
              "      background-color: #434B5C;\n",
              "      box-shadow: 0px 1px 3px 1px rgba(0, 0, 0, 0.15);\n",
              "      filter: drop-shadow(0px 1px 2px rgba(0, 0, 0, 0.3));\n",
              "      fill: #FFFFFF;\n",
              "    }\n",
              "  </style>\n",
              "\n",
              "      <script>\n",
              "        const buttonEl =\n",
              "          document.querySelector('#df-43f74548-5c7d-40a7-93f0-2a360c2ea4c1 button.colab-df-convert');\n",
              "        buttonEl.style.display =\n",
              "          google.colab.kernel.accessAllowed ? 'block' : 'none';\n",
              "\n",
              "        async function convertToInteractive(key) {\n",
              "          const element = document.querySelector('#df-43f74548-5c7d-40a7-93f0-2a360c2ea4c1');\n",
              "          const dataTable =\n",
              "            await google.colab.kernel.invokeFunction('convertToInteractive',\n",
              "                                                     [key], {});\n",
              "          if (!dataTable) return;\n",
              "\n",
              "          const docLinkHtml = 'Like what you see? Visit the ' +\n",
              "            '<a target=\"_blank\" href=https://colab.research.google.com/notebooks/data_table.ipynb>data table notebook</a>'\n",
              "            + ' to learn more about interactive tables.';\n",
              "          element.innerHTML = '';\n",
              "          dataTable['output_type'] = 'display_data';\n",
              "          await google.colab.output.renderOutput(dataTable, element);\n",
              "          const docLink = document.createElement('div');\n",
              "          docLink.innerHTML = docLinkHtml;\n",
              "          element.appendChild(docLink);\n",
              "        }\n",
              "      </script>\n",
              "    </div>\n",
              "  </div>\n",
              "  "
            ]
          },
          "metadata": {},
          "execution_count": 364
        }
      ]
    },
    {
      "cell_type": "code",
      "source": [
        "# Gộp ba DataFrame lại với nhau\n",
        "rfm = pd.merge(rfm, rfm_p, on = 'CustomerID', how = 'inner')\n",
        "rfm.columns = ['CustomerID', 'Amount', 'Frequency', 'Recency']\n",
        "rfm.head()"
      ],
      "metadata": {
        "colab": {
          "base_uri": "https://localhost:8080/",
          "height": 206
        },
        "id": "rYBppXWzNp8o",
        "outputId": "1954b559-9f36-4e59-f736-6f15629865c5"
      },
      "execution_count": 365,
      "outputs": [
        {
          "output_type": "execute_result",
          "data": {
            "text/plain": [
              "  CustomerID   Amount  Frequency  Recency\n",
              "0    12346.0     0.00          2      325\n",
              "1    12347.0  4310.00        182        1\n",
              "2    12348.0  1797.24         31       74\n",
              "3    12349.0  1757.55         73       18\n",
              "4    12350.0   334.40         17      309"
            ],
            "text/html": [
              "\n",
              "  <div id=\"df-bb4fbb30-1e62-41f6-b8dc-3d1788125df2\">\n",
              "    <div class=\"colab-df-container\">\n",
              "      <div>\n",
              "<style scoped>\n",
              "    .dataframe tbody tr th:only-of-type {\n",
              "        vertical-align: middle;\n",
              "    }\n",
              "\n",
              "    .dataframe tbody tr th {\n",
              "        vertical-align: top;\n",
              "    }\n",
              "\n",
              "    .dataframe thead th {\n",
              "        text-align: right;\n",
              "    }\n",
              "</style>\n",
              "<table border=\"1\" class=\"dataframe\">\n",
              "  <thead>\n",
              "    <tr style=\"text-align: right;\">\n",
              "      <th></th>\n",
              "      <th>CustomerID</th>\n",
              "      <th>Amount</th>\n",
              "      <th>Frequency</th>\n",
              "      <th>Recency</th>\n",
              "    </tr>\n",
              "  </thead>\n",
              "  <tbody>\n",
              "    <tr>\n",
              "      <th>0</th>\n",
              "      <td>12346.0</td>\n",
              "      <td>0.00</td>\n",
              "      <td>2</td>\n",
              "      <td>325</td>\n",
              "    </tr>\n",
              "    <tr>\n",
              "      <th>1</th>\n",
              "      <td>12347.0</td>\n",
              "      <td>4310.00</td>\n",
              "      <td>182</td>\n",
              "      <td>1</td>\n",
              "    </tr>\n",
              "    <tr>\n",
              "      <th>2</th>\n",
              "      <td>12348.0</td>\n",
              "      <td>1797.24</td>\n",
              "      <td>31</td>\n",
              "      <td>74</td>\n",
              "    </tr>\n",
              "    <tr>\n",
              "      <th>3</th>\n",
              "      <td>12349.0</td>\n",
              "      <td>1757.55</td>\n",
              "      <td>73</td>\n",
              "      <td>18</td>\n",
              "    </tr>\n",
              "    <tr>\n",
              "      <th>4</th>\n",
              "      <td>12350.0</td>\n",
              "      <td>334.40</td>\n",
              "      <td>17</td>\n",
              "      <td>309</td>\n",
              "    </tr>\n",
              "  </tbody>\n",
              "</table>\n",
              "</div>\n",
              "      <button class=\"colab-df-convert\" onclick=\"convertToInteractive('df-bb4fbb30-1e62-41f6-b8dc-3d1788125df2')\"\n",
              "              title=\"Convert this dataframe to an interactive table.\"\n",
              "              style=\"display:none;\">\n",
              "        \n",
              "  <svg xmlns=\"http://www.w3.org/2000/svg\" height=\"24px\"viewBox=\"0 0 24 24\"\n",
              "       width=\"24px\">\n",
              "    <path d=\"M0 0h24v24H0V0z\" fill=\"none\"/>\n",
              "    <path d=\"M18.56 5.44l.94 2.06.94-2.06 2.06-.94-2.06-.94-.94-2.06-.94 2.06-2.06.94zm-11 1L8.5 8.5l.94-2.06 2.06-.94-2.06-.94L8.5 2.5l-.94 2.06-2.06.94zm10 10l.94 2.06.94-2.06 2.06-.94-2.06-.94-.94-2.06-.94 2.06-2.06.94z\"/><path d=\"M17.41 7.96l-1.37-1.37c-.4-.4-.92-.59-1.43-.59-.52 0-1.04.2-1.43.59L10.3 9.45l-7.72 7.72c-.78.78-.78 2.05 0 2.83L4 21.41c.39.39.9.59 1.41.59.51 0 1.02-.2 1.41-.59l7.78-7.78 2.81-2.81c.8-.78.8-2.07 0-2.86zM5.41 20L4 18.59l7.72-7.72 1.47 1.35L5.41 20z\"/>\n",
              "  </svg>\n",
              "      </button>\n",
              "      \n",
              "  <style>\n",
              "    .colab-df-container {\n",
              "      display:flex;\n",
              "      flex-wrap:wrap;\n",
              "      gap: 12px;\n",
              "    }\n",
              "\n",
              "    .colab-df-convert {\n",
              "      background-color: #E8F0FE;\n",
              "      border: none;\n",
              "      border-radius: 50%;\n",
              "      cursor: pointer;\n",
              "      display: none;\n",
              "      fill: #1967D2;\n",
              "      height: 32px;\n",
              "      padding: 0 0 0 0;\n",
              "      width: 32px;\n",
              "    }\n",
              "\n",
              "    .colab-df-convert:hover {\n",
              "      background-color: #E2EBFA;\n",
              "      box-shadow: 0px 1px 2px rgba(60, 64, 67, 0.3), 0px 1px 3px 1px rgba(60, 64, 67, 0.15);\n",
              "      fill: #174EA6;\n",
              "    }\n",
              "\n",
              "    [theme=dark] .colab-df-convert {\n",
              "      background-color: #3B4455;\n",
              "      fill: #D2E3FC;\n",
              "    }\n",
              "\n",
              "    [theme=dark] .colab-df-convert:hover {\n",
              "      background-color: #434B5C;\n",
              "      box-shadow: 0px 1px 3px 1px rgba(0, 0, 0, 0.15);\n",
              "      filter: drop-shadow(0px 1px 2px rgba(0, 0, 0, 0.3));\n",
              "      fill: #FFFFFF;\n",
              "    }\n",
              "  </style>\n",
              "\n",
              "      <script>\n",
              "        const buttonEl =\n",
              "          document.querySelector('#df-bb4fbb30-1e62-41f6-b8dc-3d1788125df2 button.colab-df-convert');\n",
              "        buttonEl.style.display =\n",
              "          google.colab.kernel.accessAllowed ? 'block' : 'none';\n",
              "\n",
              "        async function convertToInteractive(key) {\n",
              "          const element = document.querySelector('#df-bb4fbb30-1e62-41f6-b8dc-3d1788125df2');\n",
              "          const dataTable =\n",
              "            await google.colab.kernel.invokeFunction('convertToInteractive',\n",
              "                                                     [key], {});\n",
              "          if (!dataTable) return;\n",
              "\n",
              "          const docLinkHtml = 'Like what you see? Visit the ' +\n",
              "            '<a target=\"_blank\" href=https://colab.research.google.com/notebooks/data_table.ipynb>data table notebook</a>'\n",
              "            + ' to learn more about interactive tables.';\n",
              "          element.innerHTML = '';\n",
              "          dataTable['output_type'] = 'display_data';\n",
              "          await google.colab.output.renderOutput(dataTable, element);\n",
              "          const docLink = document.createElement('div');\n",
              "          docLink.innerHTML = docLinkHtml;\n",
              "          element.appendChild(docLink);\n",
              "        }\n",
              "      </script>\n",
              "    </div>\n",
              "  </div>\n",
              "  "
            ]
          },
          "metadata": {},
          "execution_count": 365
        }
      ]
    },
    {
      "cell_type": "markdown",
      "source": [
        "### **Xử lý dữ liệu ngoại lai**"
      ],
      "metadata": {
        "id": "e8WYVddENvcP"
      }
    },
    {
      "cell_type": "code",
      "source": [
        "attributes = ['Amount','Frequency','Recency']\n",
        "plt.rcParams['figure.figsize'] = [10, 8]\n",
        "sns.boxplot(data = rfm[attributes], orient = \"v\", palette = \"Set2\", whis = 1.5, saturation = 1, width = 0.7)\n",
        "plt.title(\"Outliers Variable Distribution\", fontsize = 14, fontweight = 'bold')\n",
        "plt.ylabel(\"Range\", fontweight = 'bold')\n",
        "plt.xlabel(\"Attributes\", fontweight = 'bold')"
      ],
      "metadata": {
        "colab": {
          "base_uri": "https://localhost:8080/",
          "height": 531
        },
        "id": "WF2K3MPeNxHy",
        "outputId": "bc3d3354-ab6d-4d0a-9ef5-88fb7dbb2205"
      },
      "execution_count": 366,
      "outputs": [
        {
          "output_type": "execute_result",
          "data": {
            "text/plain": [
              "Text(0.5, 0, 'Attributes')"
            ]
          },
          "metadata": {},
          "execution_count": 366
        },
        {
          "output_type": "display_data",
          "data": {
            "text/plain": [
              "<Figure size 720x576 with 1 Axes>"
            ],
            "image/png": "[encoded data removed]"
          },
          "metadata": {
            "needs_background": "light"
          }
        }
      ]
    },
    {
      "cell_type": "code",
      "source": [
        "# Loại bỏ dữ liệu ngoại lai\n",
        "Q1 = rfm.Amount.quantile(0.05)\n",
        "Q3 = rfm.Amount.quantile(0.95)\n",
        "IQR = Q3 - Q1\n",
        "rfm = rfm[(rfm.Amount >= Q1 - 1.5 * IQR) & (rfm.Amount <= Q3 + 1.5 * IQR)]"
      ],
      "metadata": {
        "id": "qoHz3akrN2Hh"
      },
      "execution_count": 367,
      "outputs": []
    },
    {
      "cell_type": "code",
      "source": [
        "# Loại bỏ dữ liệu ngoại lai\n",
        "Q1 = rfm.Recency.quantile(0.05)\n",
        "Q3 = rfm.Recency.quantile(0.95)\n",
        "IQR = Q3 - Q1\n",
        "rfm = rfm[(rfm.Recency >= Q1 - 1.5 * IQR) & (rfm.Recency <= Q3 + 1.5 * IQR)]"
      ],
      "metadata": {
        "id": "x8X0qEWYN9qi"
      },
      "execution_count": 368,
      "outputs": []
    },
    {
      "cell_type": "code",
      "source": [
        "# Loại bỏ dữ liệu ngoại lai\n",
        "Q1 = rfm.Frequency.quantile(0.05)\n",
        "Q3 = rfm.Frequency.quantile(0.95)\n",
        "IQR = Q3 - Q1\n",
        "rfm = rfm[(rfm.Frequency >= Q1 - 1.5 * IQR) & (rfm.Frequency <= Q3 + 1.5 * IQR)]"
      ],
      "metadata": {
        "id": "W7eQt618OBRF"
      },
      "execution_count": 369,
      "outputs": []
    },
    {
      "cell_type": "code",
      "source": [
        "# Rescaling the attributes\n",
        "\n",
        "rfm_df = rfm[['Amount', 'Frequency', 'Recency']]\n",
        "\n",
        "# Instantiate\n",
        "scaler = StandardScaler()\n",
        "\n",
        "# fit_transform\n",
        "rfm_df_scaled = scaler.fit_transform(rfm_df)\n",
        "rfm_df_scaled.shape"
      ],
      "metadata": {
        "colab": {
          "base_uri": "https://localhost:8080/"
        },
        "id": "DuJMkR0dOMhP",
        "outputId": "b5e1bd2a-5f99-4500-b738-903556cc0d8d"
      },
      "execution_count": 370,
      "outputs": [
        {
          "output_type": "execute_result",
          "data": {
            "text/plain": [
              "(4293, 3)"
            ]
          },
          "metadata": {},
          "execution_count": 370
        }
      ]
    },
    {
      "cell_type": "code",
      "source": [
        "rfm_df_scaled = pd.DataFrame(rfm_df_scaled)\n",
        "rfm_df_scaled.columns = ['Amount', 'Frequency', 'Recency']\n",
        "rfm_df_scaled.head()"
      ],
      "metadata": {
        "colab": {
          "base_uri": "https://localhost:8080/",
          "height": 206
        },
        "id": "QgKp60Tti7et",
        "outputId": "9deccdca-45e7-4d11-f98b-ddb5058c09f5"
      },
      "execution_count": 371,
      "outputs": [
        {
          "output_type": "execute_result",
          "data": {
            "text/plain": [
              "     Amount  Frequency   Recency\n",
              "0 -0.723738  -0.752888  2.301611\n",
              "1  1.731617   1.042467 -0.906466\n",
              "2  0.300128  -0.463636 -0.183658\n",
              "3  0.277517  -0.044720 -0.738141\n",
              "4 -0.533235  -0.603275  2.143188"
            ],
            "text/html": [
              "\n",
              "  <div id=\"df-5a0303a7-dd5e-48dc-bf8d-621eea1b9151\">\n",
              "    <div class=\"colab-df-container\">\n",
              "      <div>\n",
              "<style scoped>\n",
              "    .dataframe tbody tr th:only-of-type {\n",
              "        vertical-align: middle;\n",
              "    }\n",
              "\n",
              "    .dataframe tbody tr th {\n",
              "        vertical-align: top;\n",
              "    }\n",
              "\n",
              "    .dataframe thead th {\n",
              "        text-align: right;\n",
              "    }\n",
              "</style>\n",
              "<table border=\"1\" class=\"dataframe\">\n",
              "  <thead>\n",
              "    <tr style=\"text-align: right;\">\n",
              "      <th></th>\n",
              "      <th>Amount</th>\n",
              "      <th>Frequency</th>\n",
              "      <th>Recency</th>\n",
              "    </tr>\n",
              "  </thead>\n",
              "  <tbody>\n",
              "    <tr>\n",
              "      <th>0</th>\n",
              "      <td>-0.723738</td>\n",
              "      <td>-0.752888</td>\n",
              "      <td>2.301611</td>\n",
              "    </tr>\n",
              "    <tr>\n",
              "      <th>1</th>\n",
              "      <td>1.731617</td>\n",
              "      <td>1.042467</td>\n",
              "      <td>-0.906466</td>\n",
              "    </tr>\n",
              "    <tr>\n",
              "      <th>2</th>\n",
              "      <td>0.300128</td>\n",
              "      <td>-0.463636</td>\n",
              "      <td>-0.183658</td>\n",
              "    </tr>\n",
              "    <tr>\n",
              "      <th>3</th>\n",
              "      <td>0.277517</td>\n",
              "      <td>-0.044720</td>\n",
              "      <td>-0.738141</td>\n",
              "    </tr>\n",
              "    <tr>\n",
              "      <th>4</th>\n",
              "      <td>-0.533235</td>\n",
              "      <td>-0.603275</td>\n",
              "      <td>2.143188</td>\n",
              "    </tr>\n",
              "  </tbody>\n",
              "</table>\n",
              "</div>\n",
              "      <button class=\"colab-df-convert\" onclick=\"convertToInteractive('df-5a0303a7-dd5e-48dc-bf8d-621eea1b9151')\"\n",
              "              title=\"Convert this dataframe to an interactive table.\"\n",
              "              style=\"display:none;\">\n",
              "        \n",
              "  <svg xmlns=\"http://www.w3.org/2000/svg\" height=\"24px\"viewBox=\"0 0 24 24\"\n",
              "       width=\"24px\">\n",
              "    <path d=\"M0 0h24v24H0V0z\" fill=\"none\"/>\n",
              "    <path d=\"M18.56 5.44l.94 2.06.94-2.06 2.06-.94-2.06-.94-.94-2.06-.94 2.06-2.06.94zm-11 1L8.5 8.5l.94-2.06 2.06-.94-2.06-.94L8.5 2.5l-.94 2.06-2.06.94zm10 10l.94 2.06.94-2.06 2.06-.94-2.06-.94-.94-2.06-.94 2.06-2.06.94z\"/><path d=\"M17.41 7.96l-1.37-1.37c-.4-.4-.92-.59-1.43-.59-.52 0-1.04.2-1.43.59L10.3 9.45l-7.72 7.72c-.78.78-.78 2.05 0 2.83L4 21.41c.39.39.9.59 1.41.59.51 0 1.02-.2 1.41-.59l7.78-7.78 2.81-2.81c.8-.78.8-2.07 0-2.86zM5.41 20L4 18.59l7.72-7.72 1.47 1.35L5.41 20z\"/>\n",
              "  </svg>\n",
              "      </button>\n",
              "      \n",
              "  <style>\n",
              "    .colab-df-container {\n",
              "      display:flex;\n",
              "      flex-wrap:wrap;\n",
              "      gap: 12px;\n",
              "    }\n",
              "\n",
              "    .colab-df-convert {\n",
              "      background-color: #E8F0FE;\n",
              "      border: none;\n",
              "      border-radius: 50%;\n",
              "      cursor: pointer;\n",
              "      display: none;\n",
              "      fill: #1967D2;\n",
              "      height: 32px;\n",
              "      padding: 0 0 0 0;\n",
              "      width: 32px;\n",
              "    }\n",
              "\n",
              "    .colab-df-convert:hover {\n",
              "      background-color: #E2EBFA;\n",
              "      box-shadow: 0px 1px 2px rgba(60, 64, 67, 0.3), 0px 1px 3px 1px rgba(60, 64, 67, 0.15);\n",
              "      fill: #174EA6;\n",
              "    }\n",
              "\n",
              "    [theme=dark] .colab-df-convert {\n",
              "      background-color: #3B4455;\n",
              "      fill: #D2E3FC;\n",
              "    }\n",
              "\n",
              "    [theme=dark] .colab-df-convert:hover {\n",
              "      background-color: #434B5C;\n",
              "      box-shadow: 0px 1px 3px 1px rgba(0, 0, 0, 0.15);\n",
              "      filter: drop-shadow(0px 1px 2px rgba(0, 0, 0, 0.3));\n",
              "      fill: #FFFFFF;\n",
              "    }\n",
              "  </style>\n",
              "\n",
              "      <script>\n",
              "        const buttonEl =\n",
              "          document.querySelector('#df-5a0303a7-dd5e-48dc-bf8d-621eea1b9151 button.colab-df-convert');\n",
              "        buttonEl.style.display =\n",
              "          google.colab.kernel.accessAllowed ? 'block' : 'none';\n",
              "\n",
              "        async function convertToInteractive(key) {\n",
              "          const element = document.querySelector('#df-5a0303a7-dd5e-48dc-bf8d-621eea1b9151');\n",
              "          const dataTable =\n",
              "            await google.colab.kernel.invokeFunction('convertToInteractive',\n",
              "                                                     [key], {});\n",
              "          if (!dataTable) return;\n",
              "\n",
              "          const docLinkHtml = 'Like what you see? Visit the ' +\n",
              "            '<a target=\"_blank\" href=https://colab.research.google.com/notebooks/data_table.ipynb>data table notebook</a>'\n",
              "            + ' to learn more about interactive tables.';\n",
              "          element.innerHTML = '';\n",
              "          dataTable['output_type'] = 'display_data';\n",
              "          await google.colab.output.renderOutput(dataTable, element);\n",
              "          const docLink = document.createElement('div');\n",
              "          docLink.innerHTML = docLinkHtml;\n",
              "          element.appendChild(docLink);\n",
              "        }\n",
              "      </script>\n",
              "    </div>\n",
              "  </div>\n",
              "  "
            ]
          },
          "metadata": {},
          "execution_count": 371
        }
      ]
    },
    {
      "cell_type": "markdown",
      "source": [
        "### **K - Means Clustering**"
      ],
      "metadata": {
        "id": "evK2NK0sORdP"
      }
    },
    {
      "cell_type": "code",
      "source": [
        "# k-means with some arbitrary k\n",
        "\n",
        "kmeans = KMeans(n_clusters = 4, max_iter = 100)\n",
        "kmeans.fit(rfm_df_scaled)"
      ],
      "metadata": {
        "id": "eZwnVtEKtRIm",
        "colab": {
          "base_uri": "https://localhost:8080/"
        },
        "outputId": "a9009095-6739-4f57-92dc-80e7ab849845"
      },
      "execution_count": 372,
      "outputs": [
        {
          "output_type": "execute_result",
          "data": {
            "text/plain": [
              "KMeans(max_iter=100, n_clusters=4)"
            ]
          },
          "metadata": {},
          "execution_count": 372
        }
      ]
    },
    {
      "cell_type": "code",
      "source": [
        "kmeans.labels_"
      ],
      "metadata": {
        "colab": {
          "base_uri": "https://localhost:8080/"
        },
        "id": "3Xj4eiOxjdPt",
        "outputId": "ebd1779b-0c16-4efa-eafa-477d0743c530"
      },
      "execution_count": 373,
      "outputs": [
        {
          "output_type": "execute_result",
          "data": {
            "text/plain": [
              "array([2, 1, 0, ..., 2, 0, 0], dtype=int32)"
            ]
          },
          "metadata": {},
          "execution_count": 373
        }
      ]
    },
    {
      "cell_type": "markdown",
      "source": [
        "##### *Phương pháp Elbow*"
      ],
      "metadata": {
        "id": "UalapDCLOciu"
      }
    },
    {
      "cell_type": "code",
      "source": [
        "# Elbow-curve/SSD\n",
        "\n",
        "ssd = []\n",
        "range_n_clusters = [2, 3, 4, 5, 6, 7, 8]\n",
        "for num_clusters in range_n_clusters:\n",
        "    kmeans = KMeans(n_clusters = num_clusters, max_iter = 100)\n",
        "    kmeans.fit(rfm_df_scaled)\n",
        "    \n",
        "    ssd.append(kmeans.inertia_)\n",
        "    \n",
        "# plot the SSDs for each n_clusters\n",
        "plt.plot(ssd)"
      ],
      "metadata": {
        "colab": {
          "base_uri": "https://localhost:8080/",
          "height": 500
        },
        "id": "kYbrZf0mORF-",
        "outputId": "eeb8e212-732b-4f02-fb2e-39a02693d221"
      },
      "execution_count": 374,
      "outputs": [
        {
          "output_type": "execute_result",
          "data": {
            "text/plain": [
              "[<matplotlib.lines.Line2D at 0x7fbf7b90b0d0>]"
            ]
          },
          "metadata": {},
          "execution_count": 374
        },
        {
          "output_type": "display_data",
          "data": {
            "text/plain": [
              "<Figure size 720x576 with 1 Axes>"
            ],
            "image/png": "[encoded data removed]"
          },
          "metadata": {
            "needs_background": "light"
          }
        }
      ]
    },
    {
      "cell_type": "markdown",
      "source": [
        "##### *Sihouette Analysis*"
      ],
      "metadata": {
        "id": "g2xoJ1PQOquw"
      }
    },
    {
      "cell_type": "markdown",
      "source": [
        "silhoutte score = $\\frac{p - q}{max(p, q)}$"
      ],
      "metadata": {
        "id": "PAAUnNM2Os6u"
      }
    },
    {
      "cell_type": "markdown",
      "source": [
        "$p$ là khoảng cách trung bình đến các điểm trong cụm gần nhất mà điểm dữ liệu không phải là một phần của cụm đó.\n",
        "$q$ là khoảng cách trung bình từ điểm dữ liệu trong cụm đến tất cả các điểm trong cụm của chính nó."
      ],
      "metadata": {
        "id": "QeCBjl1SOxWe"
      }
    },
    {
      "cell_type": "code",
      "source": [
        "# Silhouette analysis\n",
        "range_n_clusters = [2, 3, 4, 5, 6, 7, 8]\n",
        "\n",
        "for num_clusters in range_n_clusters:\n",
        "    \n",
        "    # intialise kmeans\n",
        "    kmeans = KMeans(n_clusters=num_clusters, max_iter = 100)\n",
        "    kmeans.fit(rfm_df_scaled)\n",
        "    \n",
        "    cluster_labels = kmeans.labels_\n",
        "    \n",
        "    # silhouette score\n",
        "    silhouette_avg = silhouette_score(rfm_df_scaled, cluster_labels)\n",
        "    print(\"For n_clusters = {0}, the silhouette score is {1}\".format(num_clusters, silhouette_avg))"
      ],
      "metadata": {
        "colab": {
          "base_uri": "https://localhost:8080/"
        },
        "id": "TxWtxi1-O6xQ",
        "outputId": "69a16c74-1eb9-4021-c43c-277923b408f9"
      },
      "execution_count": 375,
      "outputs": [
        {
          "output_type": "stream",
          "name": "stdout",
          "text": [
            "For n_clusters = 2, the silhouette score is 0.5411246404292333\n",
            "For n_clusters = 3, the silhouette score is 0.5084896296141937\n",
            "For n_clusters = 4, the silhouette score is 0.4777820100216849\n",
            "For n_clusters = 5, the silhouette score is 0.46627005641897035\n",
            "For n_clusters = 6, the silhouette score is 0.41753051875511704\n",
            "For n_clusters = 7, the silhouette score is 0.41550117171171014\n",
            "For n_clusters = 8, the silhouette score is 0.41034011379914037\n"
          ]
        }
      ]
    },
    {
      "cell_type": "code",
      "source": [
        "# Final model with k = 3\n",
        "kmeans = KMeans(n_clusters = 3, max_iter = 100)\n",
        "kmeans.fit(rfm_df_scaled)"
      ],
      "metadata": {
        "colab": {
          "base_uri": "https://localhost:8080/"
        },
        "id": "W5YJjIl2PBtY",
        "outputId": "7a936add-fbaa-4cf7-a8d5-d3b635874a87"
      },
      "execution_count": 376,
      "outputs": [
        {
          "output_type": "execute_result",
          "data": {
            "text/plain": [
              "KMeans(max_iter=100, n_clusters=3)"
            ]
          },
          "metadata": {},
          "execution_count": 376
        }
      ]
    },
    {
      "cell_type": "code",
      "source": [
        "kmeans.labels_"
      ],
      "metadata": {
        "colab": {
          "base_uri": "https://localhost:8080/"
        },
        "id": "gxxfiCPZPFLW",
        "outputId": "2d3ee17b-855f-4bb0-de1e-4a205741b375"
      },
      "execution_count": 377,
      "outputs": [
        {
          "output_type": "execute_result",
          "data": {
            "text/plain": [
              "array([2, 0, 1, ..., 2, 1, 1], dtype=int32)"
            ]
          },
          "metadata": {},
          "execution_count": 377
        }
      ]
    },
    {
      "cell_type": "code",
      "source": [
        "# assign the label\n",
        "rfm['Cluster_Id'] = kmeans.labels_\n",
        "rfm.head()"
      ],
      "metadata": {
        "colab": {
          "base_uri": "https://localhost:8080/",
          "height": 206
        },
        "id": "xtI8_8ctPI0e",
        "outputId": "d1d8599a-af56-47fa-8ee5-4eb92eba61e9"
      },
      "execution_count": 378,
      "outputs": [
        {
          "output_type": "execute_result",
          "data": {
            "text/plain": [
              "  CustomerID   Amount  Frequency  Recency  Cluster_Id\n",
              "0    12346.0     0.00          2      325           2\n",
              "1    12347.0  4310.00        182        1           0\n",
              "2    12348.0  1797.24         31       74           1\n",
              "3    12349.0  1757.55         73       18           1\n",
              "4    12350.0   334.40         17      309           2"
            ],
            "text/html": [
              "\n",
              "  <div id=\"df-f603656e-38f7-4f34-bd75-f132e441742b\">\n",
              "    <div class=\"colab-df-container\">\n",
              "      <div>\n",
              "<style scoped>\n",
              "    .dataframe tbody tr th:only-of-type {\n",
              "        vertical-align: middle;\n",
              "    }\n",
              "\n",
              "    .dataframe tbody tr th {\n",
              "        vertical-align: top;\n",
              "    }\n",
              "\n",
              "    .dataframe thead th {\n",
              "        text-align: right;\n",
              "    }\n",
              "</style>\n",
              "<table border=\"1\" class=\"dataframe\">\n",
              "  <thead>\n",
              "    <tr style=\"text-align: right;\">\n",
              "      <th></th>\n",
              "      <th>CustomerID</th>\n",
              "      <th>Amount</th>\n",
              "      <th>Frequency</th>\n",
              "      <th>Recency</th>\n",
              "      <th>Cluster_Id</th>\n",
              "    </tr>\n",
              "  </thead>\n",
              "  <tbody>\n",
              "    <tr>\n",
              "      <th>0</th>\n",
              "      <td>12346.0</td>\n",
              "      <td>0.00</td>\n",
              "      <td>2</td>\n",
              "      <td>325</td>\n",
              "      <td>2</td>\n",
              "    </tr>\n",
              "    <tr>\n",
              "      <th>1</th>\n",
              "      <td>12347.0</td>\n",
              "      <td>4310.00</td>\n",
              "      <td>182</td>\n",
              "      <td>1</td>\n",
              "      <td>0</td>\n",
              "    </tr>\n",
              "    <tr>\n",
              "      <th>2</th>\n",
              "      <td>12348.0</td>\n",
              "      <td>1797.24</td>\n",
              "      <td>31</td>\n",
              "      <td>74</td>\n",
              "      <td>1</td>\n",
              "    </tr>\n",
              "    <tr>\n",
              "      <th>3</th>\n",
              "      <td>12349.0</td>\n",
              "      <td>1757.55</td>\n",
              "      <td>73</td>\n",
              "      <td>18</td>\n",
              "      <td>1</td>\n",
              "    </tr>\n",
              "    <tr>\n",
              "      <th>4</th>\n",
              "      <td>12350.0</td>\n",
              "      <td>334.40</td>\n",
              "      <td>17</td>\n",
              "      <td>309</td>\n",
              "      <td>2</td>\n",
              "    </tr>\n",
              "  </tbody>\n",
              "</table>\n",
              "</div>\n",
              "      <button class=\"colab-df-convert\" onclick=\"convertToInteractive('df-f603656e-38f7-4f34-bd75-f132e441742b')\"\n",
              "              title=\"Convert this dataframe to an interactive table.\"\n",
              "              style=\"display:none;\">\n",
              "        \n",
              "  <svg xmlns=\"http://www.w3.org/2000/svg\" height=\"24px\"viewBox=\"0 0 24 24\"\n",
              "       width=\"24px\">\n",
              "    <path d=\"M0 0h24v24H0V0z\" fill=\"none\"/>\n",
              "    <path d=\"M18.56 5.44l.94 2.06.94-2.06 2.06-.94-2.06-.94-.94-2.06-.94 2.06-2.06.94zm-11 1L8.5 8.5l.94-2.06 2.06-.94-2.06-.94L8.5 2.5l-.94 2.06-2.06.94zm10 10l.94 2.06.94-2.06 2.06-.94-2.06-.94-.94-2.06-.94 2.06-2.06.94z\"/><path d=\"M17.41 7.96l-1.37-1.37c-.4-.4-.92-.59-1.43-.59-.52 0-1.04.2-1.43.59L10.3 9.45l-7.72 7.72c-.78.78-.78 2.05 0 2.83L4 21.41c.39.39.9.59 1.41.59.51 0 1.02-.2 1.41-.59l7.78-7.78 2.81-2.81c.8-.78.8-2.07 0-2.86zM5.41 20L4 18.59l7.72-7.72 1.47 1.35L5.41 20z\"/>\n",
              "  </svg>\n",
              "      </button>\n",
              "      \n",
              "  <style>\n",
              "    .colab-df-container {\n",
              "      display:flex;\n",
              "      flex-wrap:wrap;\n",
              "      gap: 12px;\n",
              "    }\n",
              "\n",
              "    .colab-df-convert {\n",
              "      background-color: #E8F0FE;\n",
              "      border: none;\n",
              "      border-radius: 50%;\n",
              "      cursor: pointer;\n",
              "      display: none;\n",
              "      fill: #1967D2;\n",
              "      height: 32px;\n",
              "      padding: 0 0 0 0;\n",
              "      width: 32px;\n",
              "    }\n",
              "\n",
              "    .colab-df-convert:hover {\n",
              "      background-color: #E2EBFA;\n",
              "      box-shadow: 0px 1px 2px rgba(60, 64, 67, 0.3), 0px 1px 3px 1px rgba(60, 64, 67, 0.15);\n",
              "      fill: #174EA6;\n",
              "    }\n",
              "\n",
              "    [theme=dark] .colab-df-convert {\n",
              "      background-color: #3B4455;\n",
              "      fill: #D2E3FC;\n",
              "    }\n",
              "\n",
              "    [theme=dark] .colab-df-convert:hover {\n",
              "      background-color: #434B5C;\n",
              "      box-shadow: 0px 1px 3px 1px rgba(0, 0, 0, 0.15);\n",
              "      filter: drop-shadow(0px 1px 2px rgba(0, 0, 0, 0.3));\n",
              "      fill: #FFFFFF;\n",
              "    }\n",
              "  </style>\n",
              "\n",
              "      <script>\n",
              "        const buttonEl =\n",
              "          document.querySelector('#df-f603656e-38f7-4f34-bd75-f132e441742b button.colab-df-convert');\n",
              "        buttonEl.style.display =\n",
              "          google.colab.kernel.accessAllowed ? 'block' : 'none';\n",
              "\n",
              "        async function convertToInteractive(key) {\n",
              "          const element = document.querySelector('#df-f603656e-38f7-4f34-bd75-f132e441742b');\n",
              "          const dataTable =\n",
              "            await google.colab.kernel.invokeFunction('convertToInteractive',\n",
              "                                                     [key], {});\n",
              "          if (!dataTable) return;\n",
              "\n",
              "          const docLinkHtml = 'Like what you see? Visit the ' +\n",
              "            '<a target=\"_blank\" href=https://colab.research.google.com/notebooks/data_table.ipynb>data table notebook</a>'\n",
              "            + ' to learn more about interactive tables.';\n",
              "          element.innerHTML = '';\n",
              "          dataTable['output_type'] = 'display_data';\n",
              "          await google.colab.output.renderOutput(dataTable, element);\n",
              "          const docLink = document.createElement('div');\n",
              "          docLink.innerHTML = docLinkHtml;\n",
              "          element.appendChild(docLink);\n",
              "        }\n",
              "      </script>\n",
              "    </div>\n",
              "  </div>\n",
              "  "
            ]
          },
          "metadata": {},
          "execution_count": 378
        }
      ]
    },
    {
      "cell_type": "code",
      "source": [
        "# Vẽ biểu đồ boxplot cho thuộc tính \"Cluster_Id\" và \"Amount\"\n",
        "sns.boxplot(x = \"Cluster_Id\", y = \"Amount\", data = rfm)"
      ],
      "metadata": {
        "colab": {
          "base_uri": "https://localhost:8080/",
          "height": 515
        },
        "id": "X5k7E6SXPOdX",
        "outputId": "34594153-4f8e-4bca-c197-212b7e9e8388"
      },
      "execution_count": 379,
      "outputs": [
        {
          "output_type": "execute_result",
          "data": {
            "text/plain": [
              "<matplotlib.axes._subplots.AxesSubplot at 0x7fbf7a815c10>"
            ]
          },
          "metadata": {},
          "execution_count": 379
        },
        {
          "output_type": "display_data",
          "data": {
            "text/plain": [
              "<Figure size 720x576 with 1 Axes>"
            ],
            "image/png": "[encoded data removed]"
          },
          "metadata": {
            "needs_background": "light"
          }
        }
      ]
    },
    {
      "cell_type": "code",
      "source": [
        "# Vẽ biểu đồ boxplot cho thuộc tính \"Cluster_Id\" và \"Frequency\"\n",
        "sns.boxplot(x = \"Cluster_Id\", y = \"Frequency\", data = rfm)"
      ],
      "metadata": {
        "colab": {
          "base_uri": "https://localhost:8080/",
          "height": 515
        },
        "id": "gTitDPziPbF_",
        "outputId": "ae820b56-b4ab-4ce1-ed0a-0b5c24dedc4c"
      },
      "execution_count": 380,
      "outputs": [
        {
          "output_type": "execute_result",
          "data": {
            "text/plain": [
              "<matplotlib.axes._subplots.AxesSubplot at 0x7fbf7a815250>"
            ]
          },
          "metadata": {},
          "execution_count": 380
        },
        {
          "output_type": "display_data",
          "data": {
            "text/plain": [
              "<Figure size 720x576 with 1 Axes>"
            ],
            "image/png": "[encoded data removed]"
          },
          "metadata": {
            "needs_background": "light"
          }
        }
      ]
    },
    {
      "cell_type": "code",
      "source": [
        "# Vẽ biểu đồ boxplot cho thuộc tính \"Cluster_Id\" và \"Recency\"\n",
        "sns.boxplot(x = \"Cluster_Id\", y = \"Recency\", data = rfm)"
      ],
      "metadata": {
        "colab": {
          "base_uri": "https://localhost:8080/",
          "height": 515
        },
        "id": "L4kvkfvyPhut",
        "outputId": "73fac3bb-9e69-469c-ffd0-f41d47251ccc"
      },
      "execution_count": 381,
      "outputs": [
        {
          "output_type": "execute_result",
          "data": {
            "text/plain": [
              "<matplotlib.axes._subplots.AxesSubplot at 0x7fbf7afd4dd0>"
            ]
          },
          "metadata": {},
          "execution_count": 381
        },
        {
          "output_type": "display_data",
          "data": {
            "text/plain": [
              "<Figure size 720x576 with 1 Axes>"
            ],
            "image/png": "[encoded data removed]"
          },
          "metadata": {
            "needs_background": "light"
          }
        }
      ]
    },
    {
      "cell_type": "markdown",
      "source": [
        "##### *Nhận xét*"
      ],
      "metadata": {
        "id": "_lSA-DWwPniV"
      }
    },
    {
      "cell_type": "markdown",
      "source": [
        "- Khách hàng có Cluster_Id cụm 0 có lượng mua cao hơn so với các khách hàng khác.\n",
        "- Khách hàng có Cluster_Id cụm 0 là những người mua thường xuyên nhất.\n",
        "- Khách hàng có Cluster_Id cụm 2 không phải là những người mua gần đây nhiều. Từ đó dẫn đến đây là những đối tượng ít quan trọng trong chiến lược bán hàng."
      ],
      "metadata": {
        "id": "dPuCjSprPpWp"
      }
    },
    {
      "cell_type": "markdown",
      "source": [
        "### Hierarchical Clustering"
      ],
      "metadata": {
        "id": "zcaFVUAreZvx"
      }
    },
    {
      "cell_type": "markdown",
      "source": [
        "Phân cum có thứ bậc giúp tạo ra các cụm có thứ tự từ trên xuống dưới."
      ],
      "metadata": {
        "id": "Ompx9ZlEeeuz"
      }
    },
    {
      "cell_type": "markdown",
      "source": [
        "##### *Liên kết đơn*\n",
        "Khoảng cách giữa hai cụm được xác định là khoảng cách ngắn nhất giữa hai điểm thuộc hai cụm đó"
      ],
      "metadata": {
        "id": "zgGepukFe_gt"
      }
    },
    {
      "cell_type": "markdown",
      "source": [
        "![image.png](data:image/png;base64,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)"
      ],
      "metadata": {
        "id": "QPwCN65ufSfE"
      }
    },
    {
      "cell_type": "code",
      "source": [
        "mergings = linkage(rfm_df_scaled, method = \"single\", metric = 'euclidean')\n",
        "dendrogram(mergings)\n",
        "plt.show()"
      ],
      "metadata": {
        "colab": {
          "base_uri": "https://localhost:8080/",
          "height": 486
        },
        "id": "bdOXWEOLl96V",
        "outputId": "612f67a5-a5a5-493d-f822-ca4c86aca9db"
      },
      "execution_count": 382,
      "outputs": [
        {
          "output_type": "display_data",
          "data": {
            "text/plain": [
              "<Figure size 720x576 with 1 Axes>"
            ],
            "image/png": "[encoded data removed]"
          },
          "metadata": {
            "needs_background": "light"
          }
        }
      ]
    },
    {
      "cell_type": "markdown",
      "source": [
        "##### *Liên kết hoàn chỉnh*\n",
        "Khoảng cách giữa hai cụm được xác định là khoảng cách xa nhất giữa hai điểm thuộc hai cụm đó"
      ],
      "metadata": {
        "id": "sj5Iza0dfmuY"
      }
    },
    {
      "cell_type": "markdown",
      "source": [
        "![image.png](data:image/png;base64,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)"
      ],
      "metadata": {
        "id": "bq6VjQ6wmhi7"
      }
    },
    {
      "cell_type": "code",
      "source": [
        "mergings = linkage(rfm_df_scaled, method = \"complete\", metric = 'euclidean')\n",
        "dendrogram(mergings)\n",
        "plt.show()"
      ],
      "metadata": {
        "colab": {
          "base_uri": "https://localhost:8080/",
          "height": 486
        },
        "id": "a57DyEzxl761",
        "outputId": "026eb773-dddc-4d0f-c027-443b941fda9e"
      },
      "execution_count": 383,
      "outputs": [
        {
          "output_type": "display_data",
          "data": {
            "text/plain": [
              "<Figure size 720x576 with 1 Axes>"
            ],
            "image/png": "[encoded data removed]"
          },
          "metadata": {
            "needs_background": "light"
          }
        }
      ]
    },
    {
      "cell_type": "markdown",
      "source": [
        "##### *Liên kết trung bình*\n",
        "Khoảng cách giữa hai cụm được xác định là khoảng cách giữa hai điểm center của hai cụm đó (hay chính bằng trung bình khoảng cách giữa mỗi điểm trong cụm này với mọi điểm trong cụm kia)."
      ],
      "metadata": {
        "id": "oqQLvj2tmxXP"
      }
    },
    {
      "cell_type": "markdown",
      "source": [
        "![image.png](data:image/png;base64,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)"
      ],
      "metadata": {
        "id": "Iia9ES6LrtgD"
      }
    },
    {
      "cell_type": "code",
      "source": [
        "mergings = linkage(rfm_df_scaled, method = \"average\", metric = 'euclidean')\n",
        "dendrogram(mergings)\n",
        "plt.show()"
      ],
      "metadata": {
        "colab": {
          "base_uri": "https://localhost:8080/",
          "height": 486
        },
        "id": "yAkCfzY_pcv2",
        "outputId": "9661adaa-f23c-429b-f0d7-52dfb84086a8"
      },
      "execution_count": 384,
      "outputs": [
        {
          "output_type": "display_data",
          "data": {
            "text/plain": [
              "<Figure size 720x576 with 1 Axes>"
            ],
            "image/png": "[encoded data removed]"
          },
          "metadata": {
            "needs_background": "light"
          }
        }
      ]
    },
    {
      "cell_type": "markdown",
      "source": [
        "**Cutting the Dendrogram based on K**"
      ],
      "metadata": {
        "id": "7LgeYiifs6yT"
      }
    },
    {
      "cell_type": "code",
      "source": [
        "cluster_labels = cut_tree(mergings, n_clusters = 3).reshape(-1, )\n",
        "cluster_labels"
      ],
      "metadata": {
        "colab": {
          "base_uri": "https://localhost:8080/"
        },
        "id": "wzomRJxHs-_B",
        "outputId": "e47dc0d4-4ed1-453e-a85b-c6aa26a75edc"
      },
      "execution_count": 385,
      "outputs": [
        {
          "output_type": "execute_result",
          "data": {
            "text/plain": [
              "array([0, 0, 0, ..., 0, 0, 0])"
            ]
          },
          "metadata": {},
          "execution_count": 385
        }
      ]
    },
    {
      "cell_type": "code",
      "source": [
        "# Assign cluster labels\n",
        "\n",
        "rfm['Cluster_Labels'] = cluster_labels\n",
        "rfm.head()"
      ],
      "metadata": {
        "colab": {
          "base_uri": "https://localhost:8080/",
          "height": 206
        },
        "id": "-q3SS9nstavZ",
        "outputId": "19c3a912-7dfc-4c32-c339-39a3a25a6cf8"
      },
      "execution_count": 386,
      "outputs": [
        {
          "output_type": "execute_result",
          "data": {
            "text/plain": [
              "  CustomerID   Amount  Frequency  Recency  Cluster_Id  Cluster_Labels\n",
              "0    12346.0     0.00          2      325           2               0\n",
              "1    12347.0  4310.00        182        1           0               0\n",
              "2    12348.0  1797.24         31       74           1               0\n",
              "3    12349.0  1757.55         73       18           1               0\n",
              "4    12350.0   334.40         17      309           2               0"
            ],
            "text/html": [
              "\n",
              "  <div id=\"df-eeb8f54e-d341-483b-a68e-8565f2cd1f05\">\n",
              "    <div class=\"colab-df-container\">\n",
              "      <div>\n",
              "<style scoped>\n",
              "    .dataframe tbody tr th:only-of-type {\n",
              "        vertical-align: middle;\n",
              "    }\n",
              "\n",
              "    .dataframe tbody tr th {\n",
              "        vertical-align: top;\n",
              "    }\n",
              "\n",
              "    .dataframe thead th {\n",
              "        text-align: right;\n",
              "    }\n",
              "</style>\n",
              "<table border=\"1\" class=\"dataframe\">\n",
              "  <thead>\n",
              "    <tr style=\"text-align: right;\">\n",
              "      <th></th>\n",
              "      <th>CustomerID</th>\n",
              "      <th>Amount</th>\n",
              "      <th>Frequency</th>\n",
              "      <th>Recency</th>\n",
              "      <th>Cluster_Id</th>\n",
              "      <th>Cluster_Labels</th>\n",
              "    </tr>\n",
              "  </thead>\n",
              "  <tbody>\n",
              "    <tr>\n",
              "      <th>0</th>\n",
              "      <td>12346.0</td>\n",
              "      <td>0.00</td>\n",
              "      <td>2</td>\n",
              "      <td>325</td>\n",
              "      <td>2</td>\n",
              "      <td>0</td>\n",
              "    </tr>\n",
              "    <tr>\n",
              "      <th>1</th>\n",
              "      <td>12347.0</td>\n",
              "      <td>4310.00</td>\n",
              "      <td>182</td>\n",
              "      <td>1</td>\n",
              "      <td>0</td>\n",
              "      <td>0</td>\n",
              "    </tr>\n",
              "    <tr>\n",
              "      <th>2</th>\n",
              "      <td>12348.0</td>\n",
              "      <td>1797.24</td>\n",
              "      <td>31</td>\n",
              "      <td>74</td>\n",
              "      <td>1</td>\n",
              "      <td>0</td>\n",
              "    </tr>\n",
              "    <tr>\n",
              "      <th>3</th>\n",
              "      <td>12349.0</td>\n",
              "      <td>1757.55</td>\n",
              "      <td>73</td>\n",
              "      <td>18</td>\n",
              "      <td>1</td>\n",
              "      <td>0</td>\n",
              "    </tr>\n",
              "    <tr>\n",
              "      <th>4</th>\n",
              "      <td>12350.0</td>\n",
              "      <td>334.40</td>\n",
              "      <td>17</td>\n",
              "      <td>309</td>\n",
              "      <td>2</td>\n",
              "      <td>0</td>\n",
              "    </tr>\n",
              "  </tbody>\n",
              "</table>\n",
              "</div>\n",
              "      <button class=\"colab-df-convert\" onclick=\"convertToInteractive('df-eeb8f54e-d341-483b-a68e-8565f2cd1f05')\"\n",
              "              title=\"Convert this dataframe to an interactive table.\"\n",
              "              style=\"display:none;\">\n",
              "        \n",
              "  <svg xmlns=\"http://www.w3.org/2000/svg\" height=\"24px\"viewBox=\"0 0 24 24\"\n",
              "       width=\"24px\">\n",
              "    <path d=\"M0 0h24v24H0V0z\" fill=\"none\"/>\n",
              "    <path d=\"M18.56 5.44l.94 2.06.94-2.06 2.06-.94-2.06-.94-.94-2.06-.94 2.06-2.06.94zm-11 1L8.5 8.5l.94-2.06 2.06-.94-2.06-.94L8.5 2.5l-.94 2.06-2.06.94zm10 10l.94 2.06.94-2.06 2.06-.94-2.06-.94-.94-2.06-.94 2.06-2.06.94z\"/><path d=\"M17.41 7.96l-1.37-1.37c-.4-.4-.92-.59-1.43-.59-.52 0-1.04.2-1.43.59L10.3 9.45l-7.72 7.72c-.78.78-.78 2.05 0 2.83L4 21.41c.39.39.9.59 1.41.59.51 0 1.02-.2 1.41-.59l7.78-7.78 2.81-2.81c.8-.78.8-2.07 0-2.86zM5.41 20L4 18.59l7.72-7.72 1.47 1.35L5.41 20z\"/>\n",
              "  </svg>\n",
              "      </button>\n",
              "      \n",
              "  <style>\n",
              "    .colab-df-container {\n",
              "      display:flex;\n",
              "      flex-wrap:wrap;\n",
              "      gap: 12px;\n",
              "    }\n",
              "\n",
              "    .colab-df-convert {\n",
              "      background-color: #E8F0FE;\n",
              "      border: none;\n",
              "      border-radius: 50%;\n",
              "      cursor: pointer;\n",
              "      display: none;\n",
              "      fill: #1967D2;\n",
              "      height: 32px;\n",
              "      padding: 0 0 0 0;\n",
              "      width: 32px;\n",
              "    }\n",
              "\n",
              "    .colab-df-convert:hover {\n",
              "      background-color: #E2EBFA;\n",
              "      box-shadow: 0px 1px 2px rgba(60, 64, 67, 0.3), 0px 1px 3px 1px rgba(60, 64, 67, 0.15);\n",
              "      fill: #174EA6;\n",
              "    }\n",
              "\n",
              "    [theme=dark] .colab-df-convert {\n",
              "      background-color: #3B4455;\n",
              "      fill: #D2E3FC;\n",
              "    }\n",
              "\n",
              "    [theme=dark] .colab-df-convert:hover {\n",
              "      background-color: #434B5C;\n",
              "      box-shadow: 0px 1px 3px 1px rgba(0, 0, 0, 0.15);\n",
              "      filter: drop-shadow(0px 1px 2px rgba(0, 0, 0, 0.3));\n",
              "      fill: #FFFFFF;\n",
              "    }\n",
              "  </style>\n",
              "\n",
              "      <script>\n",
              "        const buttonEl =\n",
              "          document.querySelector('#df-eeb8f54e-d341-483b-a68e-8565f2cd1f05 button.colab-df-convert');\n",
              "        buttonEl.style.display =\n",
              "          google.colab.kernel.accessAllowed ? 'block' : 'none';\n",
              "\n",
              "        async function convertToInteractive(key) {\n",
              "          const element = document.querySelector('#df-eeb8f54e-d341-483b-a68e-8565f2cd1f05');\n",
              "          const dataTable =\n",
              "            await google.colab.kernel.invokeFunction('convertToInteractive',\n",
              "                                                     [key], {});\n",
              "          if (!dataTable) return;\n",
              "\n",
              "          const docLinkHtml = 'Like what you see? Visit the ' +\n",
              "            '<a target=\"_blank\" href=https://colab.research.google.com/notebooks/data_table.ipynb>data table notebook</a>'\n",
              "            + ' to learn more about interactive tables.';\n",
              "          element.innerHTML = '';\n",
              "          dataTable['output_type'] = 'display_data';\n",
              "          await google.colab.output.renderOutput(dataTable, element);\n",
              "          const docLink = document.createElement('div');\n",
              "          docLink.innerHTML = docLinkHtml;\n",
              "          element.appendChild(docLink);\n",
              "        }\n",
              "      </script>\n",
              "    </div>\n",
              "  </div>\n",
              "  "
            ]
          },
          "metadata": {},
          "execution_count": 386
        }
      ]
    },
    {
      "cell_type": "code",
      "source": [
        "# Plot Cluster Id vs Amount\n",
        "\n",
        "sns.boxplot(x = 'Cluster_Labels', y = 'Amount', data = rfm)"
      ],
      "metadata": {
        "colab": {
          "base_uri": "https://localhost:8080/",
          "height": 515
        },
        "id": "UXEtDRaktnUL",
        "outputId": "0396747c-df26-418b-a30b-247e1d3caf46"
      },
      "execution_count": 387,
      "outputs": [
        {
          "output_type": "execute_result",
          "data": {
            "text/plain": [
              "<matplotlib.axes._subplots.AxesSubplot at 0x7fbf7bb7acd0>"
            ]
          },
          "metadata": {},
          "execution_count": 387
        },
        {
          "output_type": "display_data",
          "data": {
            "text/plain": [
              "<Figure size 720x576 with 1 Axes>"
            ],
            "image/png": "[encoded data removed]"
          },
          "metadata": {
            "needs_background": "light"
          }
        }
      ]
    },
    {
      "cell_type": "code",
      "source": [
        "# Plot Cluster Id vs Frequency\n",
        "\n",
        "sns.boxplot(x = 'Cluster_Labels', y = 'Frequency', data = rfm)"
      ],
      "metadata": {
        "colab": {
          "base_uri": "https://localhost:8080/",
          "height": 515
        },
        "id": "M7Hy4Kkevcg9",
        "outputId": "0037deb7-515d-47ea-c7f6-c1bee210f6cc"
      },
      "execution_count": 388,
      "outputs": [
        {
          "output_type": "execute_result",
          "data": {
            "text/plain": [
              "<matplotlib.axes._subplots.AxesSubplot at 0x7fbf77c3b950>"
            ]
          },
          "metadata": {},
          "execution_count": 388
        },
        {
          "output_type": "display_data",
          "data": {
            "text/plain": [
              "<Figure size 720x576 with 1 Axes>"
            ],
            "image/png": "[encoded data removed]"
          },
          "metadata": {
            "needs_background": "light"
          }
        }
      ]
    },
    {
      "cell_type": "code",
      "source": [
        "# Plot Cluster Id vs Recency\n",
        "\n",
        "sns.boxplot(x = 'Cluster_Labels', y = 'Recency', data = rfm)"
      ],
      "metadata": {
        "colab": {
          "base_uri": "https://localhost:8080/",
          "height": 515
        },
        "id": "GNbSeJ3Sv02G",
        "outputId": "c43e5990-4b6e-4208-8b0a-74cca0f4d8a8"
      },
      "execution_count": 389,
      "outputs": [
        {
          "output_type": "execute_result",
          "data": {
            "text/plain": [
              "<matplotlib.axes._subplots.AxesSubplot at 0x7fbf77c24490>"
            ]
          },
          "metadata": {},
          "execution_count": 389
        },
        {
          "output_type": "display_data",
          "data": {
            "text/plain": [
              "<Figure size 720x576 with 1 Axes>"
            ],
            "image/png": "[encoded data removed]"
          },
          "metadata": {
            "needs_background": "light"
          }
        }
      ]
    },
    {
      "cell_type": "markdown",
      "source": [
        "*Nhận xét*\n",
        "- Khách hàng có Cluster_Id cụm 2 có lượng mua cao hơn so với các khách hàng khác.\n",
        "- Khách hàng có Cluster_Id cụm 2 là những người mua thường xuyên nhất.\n",
        "- Khách hàng có Cluster_Id cụm 0 không phải là những người mua gần đây nhiều. Từ đó dẫn đến đây là những đối tượng ít quan trọng trong chiến lược bán hàng."
      ],
      "metadata": {
        "id": "eRJgnl2owQw5"
      }
    }
  ]
}